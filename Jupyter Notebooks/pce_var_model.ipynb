{
 "cells": [
  {
   "cell_type": "code",
   "execution_count": 1,
   "metadata": {},
   "outputs": [],
   "source": [
    "# This notebook prepares the dataframes for analysis and runs\n",
    "# the VAR on the combined model (economic and sentiment features) and\n",
    "# the economic (only) model."
   ]
  },
  {
   "cell_type": "code",
   "execution_count": 2,
   "metadata": {},
   "outputs": [],
   "source": [
    "import warnings\n",
    "warnings.filterwarnings('ignore')"
   ]
  },
  {
   "cell_type": "code",
   "execution_count": 3,
   "metadata": {},
   "outputs": [],
   "source": [
    "import numpy as np\n",
    "import pandas as pd\n",
    "import matplotlib.pyplot as plt\n",
    "from statsmodels.tsa.vector_ar.var_model import VAR\n",
    "from sklearn.metrics import r2_score\n",
    "from statsmodels.stats.stattools import durbin_watson\n",
    "from scipy.stats.distributions import chi2\n",
    "import warnings\n",
    "warnings.filterwarnings('ignore')"
   ]
  },
  {
   "cell_type": "code",
   "execution_count": 4,
   "metadata": {},
   "outputs": [],
   "source": [
    "import warnings\n",
    "warnings.filterwarnings('ignore')"
   ]
  },
  {
   "cell_type": "code",
   "execution_count": 5,
   "metadata": {},
   "outputs": [
    {
     "name": "stdout",
     "output_type": "stream",
     "text": [
      "month_date,ur,pi_gr,nyse_gr,gdp_log_diff,tb_sqrt_diff,ics_log_diff,pce_gr_diff\n",
      "\n",
      "2011-01-01,9.1,0.002028679786119758,0.016528644263536174,-0.0024113163305852225,0.013132595943347536,-0.004034975212179326,-0.004803188602163777\n",
      "\n"
     ]
    }
   ],
   "source": [
    "# Quick look at the first two lines of the econ CSV\n",
    "with open('data/econ_vars.csv') as f:\n",
    "    print(f.readline())\n",
    "    next(f)\n",
    "    print(f.readline())"
   ]
  },
  {
   "cell_type": "code",
   "execution_count": 6,
   "metadata": {},
   "outputs": [],
   "source": [
    "# Set data types for the econ features\n",
    "dts = {\"month_date\": str, \"ur\": np.float64\n",
    "    , \"pi_gr\": np.float64, \"nyse_gr\": np.float64\n",
    "    , \"gdp_log_diff\": np.float64, \"tb_sqrt_diff\": np.float64\n",
    "    , \"ics_log_diff\": np.float64, \"pce_gr_diff\": np.float64}"
   ]
  },
  {
   "cell_type": "code",
   "execution_count": 7,
   "metadata": {},
   "outputs": [],
   "source": [
    "# Import econ data\n",
    "data_raw = pd.read_csv(\"data/econ_vars.csv\"\n",
    "                   , sep=\",\"\n",
    "                   , skiprows=0\n",
    "                   , dtype=dts)"
   ]
  },
  {
   "cell_type": "code",
   "execution_count": 8,
   "metadata": {},
   "outputs": [
    {
     "data": {
      "text/plain": [
       "(91, 8)"
      ]
     },
     "execution_count": 8,
     "metadata": {},
     "output_type": "execute_result"
    }
   ],
   "source": [
    "# Check the shape of the raw econ data\n",
    "data_raw.shape"
   ]
  },
  {
   "cell_type": "code",
   "execution_count": 9,
   "metadata": {},
   "outputs": [],
   "source": [
    "# Copy raw data\n",
    "data = data_raw.copy()"
   ]
  },
  {
   "cell_type": "code",
   "execution_count": 10,
   "metadata": {},
   "outputs": [],
   "source": [
    "# Sort descending and reset index\n",
    "data.sort_index(ascending=False, inplace=True)\n",
    "data.reset_index(drop=True, inplace=True)"
   ]
  },
  {
   "cell_type": "code",
   "execution_count": 11,
   "metadata": {},
   "outputs": [
    {
     "data": {
      "text/html": [
       "<div>\n",
       "<style scoped>\n",
       "    .dataframe tbody tr th:only-of-type {\n",
       "        vertical-align: middle;\n",
       "    }\n",
       "\n",
       "    .dataframe tbody tr th {\n",
       "        vertical-align: top;\n",
       "    }\n",
       "\n",
       "    .dataframe thead th {\n",
       "        text-align: right;\n",
       "    }\n",
       "</style>\n",
       "<table border=\"1\" class=\"dataframe\">\n",
       "  <thead>\n",
       "    <tr style=\"text-align: right;\">\n",
       "      <th></th>\n",
       "      <th>month_date</th>\n",
       "      <th>ur</th>\n",
       "      <th>pi_gr</th>\n",
       "      <th>nyse_gr</th>\n",
       "      <th>gdp_log_diff</th>\n",
       "      <th>tb_sqrt_diff</th>\n",
       "      <th>ics_log_diff</th>\n",
       "      <th>pce_gr_diff</th>\n",
       "    </tr>\n",
       "  </thead>\n",
       "  <tbody>\n",
       "    <tr>\n",
       "      <th>0</th>\n",
       "      <td>2018-06-01</td>\n",
       "      <td>4.0</td>\n",
       "      <td>0.003863</td>\n",
       "      <td>-0.001827</td>\n",
       "      <td>0.000000</td>\n",
       "      <td>0.014587</td>\n",
       "      <td>0.002039</td>\n",
       "      <td>-0.001110</td>\n",
       "    </tr>\n",
       "    <tr>\n",
       "      <th>1</th>\n",
       "      <td>2018-05-01</td>\n",
       "      <td>3.8</td>\n",
       "      <td>0.003728</td>\n",
       "      <td>0.000941</td>\n",
       "      <td>0.010188</td>\n",
       "      <td>0.037168</td>\n",
       "      <td>-0.008130</td>\n",
       "      <td>0.008168</td>\n",
       "    </tr>\n",
       "    <tr>\n",
       "      <th>2</th>\n",
       "      <td>2018-04-01</td>\n",
       "      <td>3.9</td>\n",
       "      <td>-0.004827</td>\n",
       "      <td>-0.002903</td>\n",
       "      <td>0.010188</td>\n",
       "      <td>0.022809</td>\n",
       "      <td>-0.025975</td>\n",
       "      <td>-0.008891</td>\n",
       "    </tr>\n",
       "    <tr>\n",
       "      <th>3</th>\n",
       "      <td>2018-03-01</td>\n",
       "      <td>4.1</td>\n",
       "      <td>0.003938</td>\n",
       "      <td>-0.015846</td>\n",
       "      <td>0.000000</td>\n",
       "      <td>0.050844</td>\n",
       "      <td>0.016907</td>\n",
       "      <td>0.007407</td>\n",
       "    </tr>\n",
       "    <tr>\n",
       "      <th>4</th>\n",
       "      <td>2018-02-01</td>\n",
       "      <td>4.1</td>\n",
       "      <td>0.003282</td>\n",
       "      <td>-0.053517</td>\n",
       "      <td>0.005479</td>\n",
       "      <td>0.065562</td>\n",
       "      <td>0.040947</td>\n",
       "      <td>0.001663</td>\n",
       "    </tr>\n",
       "  </tbody>\n",
       "</table>\n",
       "</div>"
      ],
      "text/plain": [
       "   month_date   ur     pi_gr   nyse_gr  gdp_log_diff  tb_sqrt_diff  \\\n",
       "0  2018-06-01  4.0  0.003863 -0.001827      0.000000      0.014587   \n",
       "1  2018-05-01  3.8  0.003728  0.000941      0.010188      0.037168   \n",
       "2  2018-04-01  3.9 -0.004827 -0.002903      0.010188      0.022809   \n",
       "3  2018-03-01  4.1  0.003938 -0.015846      0.000000      0.050844   \n",
       "4  2018-02-01  4.1  0.003282 -0.053517      0.005479      0.065562   \n",
       "\n",
       "   ics_log_diff  pce_gr_diff  \n",
       "0      0.002039    -0.001110  \n",
       "1     -0.008130     0.008168  \n",
       "2     -0.025975    -0.008891  \n",
       "3      0.016907     0.007407  \n",
       "4      0.040947     0.001663  "
      ]
     },
     "execution_count": 11,
     "metadata": {},
     "output_type": "execute_result"
    }
   ],
   "source": [
    "# Check the dataframe\n",
    "data.head()"
   ]
  },
  {
   "cell_type": "code",
   "execution_count": 12,
   "metadata": {},
   "outputs": [
    {
     "name": "stdout",
     "output_type": "stream",
     "text": [
      "date,perc_pos_rev_weighted,perc_neg_rev_weighted,perc_uncert_rev_weighted,perc_litig_rev_weighted,perc_modal_wk_rev_weighted,perc_modal_mod_rev_weighted,perc_constrain_rev_weighted,perc_modal_str_rev_weighted_diff\n",
      "\n",
      "2011-03-01,1.9607048390000001,0.979452392,0.957424913,0.073102265,0.387478896,0.560045154,0.142131806,-0.0495581759999999\n",
      "\n"
     ]
    }
   ],
   "source": [
    "# Quick look at the first two lines of the sentiment CSV\n",
    "with open('data/rev_means_vars_stationary.csv') as f:\n",
    "    print(f.readline())\n",
    "    next(f)\n",
    "    print(f.readline())"
   ]
  },
  {
   "cell_type": "code",
   "execution_count": 13,
   "metadata": {},
   "outputs": [],
   "source": [
    "# Import sentiment data\n",
    "sent_raw = pd.read_csv(\"data/rev_means_vars_stationary.csv\"\n",
    "    , sep=\",\"\n",
    "    , skiprows=0\n",
    "    #, dtype=dts \n",
    "    , usecols=[0,1,2,3,4,5,6,7,8]\n",
    "    )"
   ]
  },
  {
   "cell_type": "code",
   "execution_count": 14,
   "metadata": {},
   "outputs": [
    {
     "data": {
      "text/plain": [
       "date                                 object\n",
       "perc_pos_rev_weighted               float64\n",
       "perc_neg_rev_weighted               float64\n",
       "perc_uncert_rev_weighted            float64\n",
       "perc_litig_rev_weighted             float64\n",
       "perc_modal_wk_rev_weighted          float64\n",
       "perc_modal_mod_rev_weighted         float64\n",
       "perc_constrain_rev_weighted         float64\n",
       "perc_modal_str_rev_weighted_diff    float64\n",
       "dtype: object"
      ]
     },
     "execution_count": 14,
     "metadata": {},
     "output_type": "execute_result"
    }
   ],
   "source": [
    "# Check the sentiment data types\n",
    "sent_raw.dtypes"
   ]
  },
  {
   "cell_type": "code",
   "execution_count": 15,
   "metadata": {},
   "outputs": [],
   "source": [
    "# Drop any observations with Nan\n",
    "sent_raw.dropna(inplace=True)"
   ]
  },
  {
   "cell_type": "code",
   "execution_count": 16,
   "metadata": {},
   "outputs": [],
   "source": [
    "#sort and reset the index\n",
    "sent_raw.sort_values(by='date', ascending=False, inplace=True)\n",
    "sent_raw.reset_index(drop=True, inplace=True)"
   ]
  },
  {
   "cell_type": "code",
   "execution_count": 17,
   "metadata": {},
   "outputs": [
    {
     "data": {
      "text/plain": [
       "(89, 9)"
      ]
     },
     "execution_count": 17,
     "metadata": {},
     "output_type": "execute_result"
    }
   ],
   "source": [
    "# Confirm the shape of the dataframe\n",
    "sent_raw.shape"
   ]
  },
  {
   "cell_type": "code",
   "execution_count": 18,
   "metadata": {},
   "outputs": [
    {
     "data": {
      "text/html": [
       "<div>\n",
       "<style scoped>\n",
       "    .dataframe tbody tr th:only-of-type {\n",
       "        vertical-align: middle;\n",
       "    }\n",
       "\n",
       "    .dataframe tbody tr th {\n",
       "        vertical-align: top;\n",
       "    }\n",
       "\n",
       "    .dataframe thead th {\n",
       "        text-align: right;\n",
       "    }\n",
       "</style>\n",
       "<table border=\"1\" class=\"dataframe\">\n",
       "  <thead>\n",
       "    <tr style=\"text-align: right;\">\n",
       "      <th></th>\n",
       "      <th>date</th>\n",
       "      <th>perc_pos_rev_weighted</th>\n",
       "      <th>perc_neg_rev_weighted</th>\n",
       "      <th>perc_uncert_rev_weighted</th>\n",
       "      <th>perc_litig_rev_weighted</th>\n",
       "      <th>perc_modal_wk_rev_weighted</th>\n",
       "      <th>perc_modal_mod_rev_weighted</th>\n",
       "      <th>perc_constrain_rev_weighted</th>\n",
       "      <th>perc_modal_str_rev_weighted_diff</th>\n",
       "    </tr>\n",
       "  </thead>\n",
       "  <tbody>\n",
       "    <tr>\n",
       "      <th>0</th>\n",
       "      <td>2018-06-01</td>\n",
       "      <td>2.043836</td>\n",
       "      <td>0.890239</td>\n",
       "      <td>0.815790</td>\n",
       "      <td>0.094844</td>\n",
       "      <td>0.312586</td>\n",
       "      <td>0.506602</td>\n",
       "      <td>0.101761</td>\n",
       "      <td>0.114463</td>\n",
       "    </tr>\n",
       "    <tr>\n",
       "      <th>1</th>\n",
       "      <td>2018-05-01</td>\n",
       "      <td>1.915107</td>\n",
       "      <td>1.074677</td>\n",
       "      <td>0.803269</td>\n",
       "      <td>0.082565</td>\n",
       "      <td>0.401343</td>\n",
       "      <td>0.709648</td>\n",
       "      <td>0.061652</td>\n",
       "      <td>0.054862</td>\n",
       "    </tr>\n",
       "    <tr>\n",
       "      <th>2</th>\n",
       "      <td>2018-04-01</td>\n",
       "      <td>1.926137</td>\n",
       "      <td>1.068873</td>\n",
       "      <td>0.777739</td>\n",
       "      <td>0.095691</td>\n",
       "      <td>0.379909</td>\n",
       "      <td>0.669961</td>\n",
       "      <td>0.072092</td>\n",
       "      <td>-0.064945</td>\n",
       "    </tr>\n",
       "    <tr>\n",
       "      <th>3</th>\n",
       "      <td>2018-03-01</td>\n",
       "      <td>2.016781</td>\n",
       "      <td>0.979256</td>\n",
       "      <td>0.800769</td>\n",
       "      <td>0.102810</td>\n",
       "      <td>0.402890</td>\n",
       "      <td>0.677247</td>\n",
       "      <td>0.078647</td>\n",
       "      <td>-0.032413</td>\n",
       "    </tr>\n",
       "    <tr>\n",
       "      <th>4</th>\n",
       "      <td>2018-02-01</td>\n",
       "      <td>2.004129</td>\n",
       "      <td>0.963727</td>\n",
       "      <td>0.815629</td>\n",
       "      <td>0.098500</td>\n",
       "      <td>0.414424</td>\n",
       "      <td>0.688219</td>\n",
       "      <td>0.091516</td>\n",
       "      <td>0.015687</td>\n",
       "    </tr>\n",
       "  </tbody>\n",
       "</table>\n",
       "</div>"
      ],
      "text/plain": [
       "         date  perc_pos_rev_weighted  perc_neg_rev_weighted  \\\n",
       "0  2018-06-01               2.043836               0.890239   \n",
       "1  2018-05-01               1.915107               1.074677   \n",
       "2  2018-04-01               1.926137               1.068873   \n",
       "3  2018-03-01               2.016781               0.979256   \n",
       "4  2018-02-01               2.004129               0.963727   \n",
       "\n",
       "   perc_uncert_rev_weighted  perc_litig_rev_weighted  \\\n",
       "0                  0.815790                 0.094844   \n",
       "1                  0.803269                 0.082565   \n",
       "2                  0.777739                 0.095691   \n",
       "3                  0.800769                 0.102810   \n",
       "4                  0.815629                 0.098500   \n",
       "\n",
       "   perc_modal_wk_rev_weighted  perc_modal_mod_rev_weighted  \\\n",
       "0                    0.312586                     0.506602   \n",
       "1                    0.401343                     0.709648   \n",
       "2                    0.379909                     0.669961   \n",
       "3                    0.402890                     0.677247   \n",
       "4                    0.414424                     0.688219   \n",
       "\n",
       "   perc_constrain_rev_weighted  perc_modal_str_rev_weighted_diff  \n",
       "0                     0.101761                          0.114463  \n",
       "1                     0.061652                          0.054862  \n",
       "2                     0.072092                         -0.064945  \n",
       "3                     0.078647                         -0.032413  \n",
       "4                     0.091516                          0.015687  "
      ]
     },
     "execution_count": 18,
     "metadata": {},
     "output_type": "execute_result"
    }
   ],
   "source": [
    "# Check the dataframe\n",
    "sent_raw.head()"
   ]
  },
  {
   "cell_type": "code",
   "execution_count": 19,
   "metadata": {},
   "outputs": [],
   "source": [
    "# Copy sentiment data\n",
    "sent = sent_raw.copy()"
   ]
  },
  {
   "cell_type": "code",
   "execution_count": 20,
   "metadata": {},
   "outputs": [],
   "source": [
    "# Filter econ observations to match the sentiment dataframe\n",
    "data = data.iloc[0:89,:]"
   ]
  },
  {
   "cell_type": "code",
   "execution_count": 21,
   "metadata": {},
   "outputs": [],
   "source": [
    "# Combine the econ and sentiment dataframes\n",
    "data = pd.concat([data,sent], axis=1)"
   ]
  },
  {
   "cell_type": "code",
   "execution_count": 22,
   "metadata": {},
   "outputs": [],
   "source": [
    "# Replace the integer index with the date column\n",
    "data = data.set_index(\"date\")"
   ]
  },
  {
   "cell_type": "code",
   "execution_count": 23,
   "metadata": {},
   "outputs": [],
   "source": [
    "# Drop the month_date column and the gdp column\n",
    "data = data.drop(data.columns[[0,4]], axis=1)"
   ]
  },
  {
   "cell_type": "code",
   "execution_count": 24,
   "metadata": {},
   "outputs": [
    {
     "data": {
      "text/html": [
       "<div>\n",
       "<style scoped>\n",
       "    .dataframe tbody tr th:only-of-type {\n",
       "        vertical-align: middle;\n",
       "    }\n",
       "\n",
       "    .dataframe tbody tr th {\n",
       "        vertical-align: top;\n",
       "    }\n",
       "\n",
       "    .dataframe thead th {\n",
       "        text-align: right;\n",
       "    }\n",
       "</style>\n",
       "<table border=\"1\" class=\"dataframe\">\n",
       "  <thead>\n",
       "    <tr style=\"text-align: right;\">\n",
       "      <th></th>\n",
       "      <th>ur</th>\n",
       "      <th>pi_gr</th>\n",
       "      <th>nyse_gr</th>\n",
       "      <th>tb_sqrt_diff</th>\n",
       "      <th>ics_log_diff</th>\n",
       "      <th>pce_gr_diff</th>\n",
       "      <th>perc_pos_rev_weighted</th>\n",
       "      <th>perc_neg_rev_weighted</th>\n",
       "      <th>perc_uncert_rev_weighted</th>\n",
       "      <th>perc_litig_rev_weighted</th>\n",
       "      <th>perc_modal_wk_rev_weighted</th>\n",
       "      <th>perc_modal_mod_rev_weighted</th>\n",
       "      <th>perc_constrain_rev_weighted</th>\n",
       "      <th>perc_modal_str_rev_weighted_diff</th>\n",
       "    </tr>\n",
       "    <tr>\n",
       "      <th>date</th>\n",
       "      <th></th>\n",
       "      <th></th>\n",
       "      <th></th>\n",
       "      <th></th>\n",
       "      <th></th>\n",
       "      <th></th>\n",
       "      <th></th>\n",
       "      <th></th>\n",
       "      <th></th>\n",
       "      <th></th>\n",
       "      <th></th>\n",
       "      <th></th>\n",
       "      <th></th>\n",
       "      <th></th>\n",
       "    </tr>\n",
       "  </thead>\n",
       "  <tbody>\n",
       "    <tr>\n",
       "      <th>2018-06-01</th>\n",
       "      <td>4.0</td>\n",
       "      <td>0.003863</td>\n",
       "      <td>-0.001827</td>\n",
       "      <td>0.014587</td>\n",
       "      <td>0.002039</td>\n",
       "      <td>-0.001110</td>\n",
       "      <td>2.043836</td>\n",
       "      <td>0.890239</td>\n",
       "      <td>0.815790</td>\n",
       "      <td>0.094844</td>\n",
       "      <td>0.312586</td>\n",
       "      <td>0.506602</td>\n",
       "      <td>0.101761</td>\n",
       "      <td>0.114463</td>\n",
       "    </tr>\n",
       "    <tr>\n",
       "      <th>2018-05-01</th>\n",
       "      <td>3.8</td>\n",
       "      <td>0.003728</td>\n",
       "      <td>0.000941</td>\n",
       "      <td>0.037168</td>\n",
       "      <td>-0.008130</td>\n",
       "      <td>0.008168</td>\n",
       "      <td>1.915107</td>\n",
       "      <td>1.074677</td>\n",
       "      <td>0.803269</td>\n",
       "      <td>0.082565</td>\n",
       "      <td>0.401343</td>\n",
       "      <td>0.709648</td>\n",
       "      <td>0.061652</td>\n",
       "      <td>0.054862</td>\n",
       "    </tr>\n",
       "    <tr>\n",
       "      <th>2018-04-01</th>\n",
       "      <td>3.9</td>\n",
       "      <td>-0.004827</td>\n",
       "      <td>-0.002903</td>\n",
       "      <td>0.022809</td>\n",
       "      <td>-0.025975</td>\n",
       "      <td>-0.008891</td>\n",
       "      <td>1.926137</td>\n",
       "      <td>1.068873</td>\n",
       "      <td>0.777739</td>\n",
       "      <td>0.095691</td>\n",
       "      <td>0.379909</td>\n",
       "      <td>0.669961</td>\n",
       "      <td>0.072092</td>\n",
       "      <td>-0.064945</td>\n",
       "    </tr>\n",
       "    <tr>\n",
       "      <th>2018-03-01</th>\n",
       "      <td>4.1</td>\n",
       "      <td>0.003938</td>\n",
       "      <td>-0.015846</td>\n",
       "      <td>0.050844</td>\n",
       "      <td>0.016907</td>\n",
       "      <td>0.007407</td>\n",
       "      <td>2.016781</td>\n",
       "      <td>0.979256</td>\n",
       "      <td>0.800769</td>\n",
       "      <td>0.102810</td>\n",
       "      <td>0.402890</td>\n",
       "      <td>0.677247</td>\n",
       "      <td>0.078647</td>\n",
       "      <td>-0.032413</td>\n",
       "    </tr>\n",
       "    <tr>\n",
       "      <th>2018-02-01</th>\n",
       "      <td>4.1</td>\n",
       "      <td>0.003282</td>\n",
       "      <td>-0.053517</td>\n",
       "      <td>0.065562</td>\n",
       "      <td>0.040947</td>\n",
       "      <td>0.001663</td>\n",
       "      <td>2.004129</td>\n",
       "      <td>0.963727</td>\n",
       "      <td>0.815629</td>\n",
       "      <td>0.098500</td>\n",
       "      <td>0.414424</td>\n",
       "      <td>0.688219</td>\n",
       "      <td>0.091516</td>\n",
       "      <td>0.015687</td>\n",
       "    </tr>\n",
       "  </tbody>\n",
       "</table>\n",
       "</div>"
      ],
      "text/plain": [
       "             ur     pi_gr   nyse_gr  tb_sqrt_diff  ics_log_diff  pce_gr_diff  \\\n",
       "date                                                                           \n",
       "2018-06-01  4.0  0.003863 -0.001827      0.014587      0.002039    -0.001110   \n",
       "2018-05-01  3.8  0.003728  0.000941      0.037168     -0.008130     0.008168   \n",
       "2018-04-01  3.9 -0.004827 -0.002903      0.022809     -0.025975    -0.008891   \n",
       "2018-03-01  4.1  0.003938 -0.015846      0.050844      0.016907     0.007407   \n",
       "2018-02-01  4.1  0.003282 -0.053517      0.065562      0.040947     0.001663   \n",
       "\n",
       "            perc_pos_rev_weighted  perc_neg_rev_weighted  \\\n",
       "date                                                       \n",
       "2018-06-01               2.043836               0.890239   \n",
       "2018-05-01               1.915107               1.074677   \n",
       "2018-04-01               1.926137               1.068873   \n",
       "2018-03-01               2.016781               0.979256   \n",
       "2018-02-01               2.004129               0.963727   \n",
       "\n",
       "            perc_uncert_rev_weighted  perc_litig_rev_weighted  \\\n",
       "date                                                            \n",
       "2018-06-01                  0.815790                 0.094844   \n",
       "2018-05-01                  0.803269                 0.082565   \n",
       "2018-04-01                  0.777739                 0.095691   \n",
       "2018-03-01                  0.800769                 0.102810   \n",
       "2018-02-01                  0.815629                 0.098500   \n",
       "\n",
       "            perc_modal_wk_rev_weighted  perc_modal_mod_rev_weighted  \\\n",
       "date                                                                  \n",
       "2018-06-01                    0.312586                     0.506602   \n",
       "2018-05-01                    0.401343                     0.709648   \n",
       "2018-04-01                    0.379909                     0.669961   \n",
       "2018-03-01                    0.402890                     0.677247   \n",
       "2018-02-01                    0.414424                     0.688219   \n",
       "\n",
       "            perc_constrain_rev_weighted  perc_modal_str_rev_weighted_diff  \n",
       "date                                                                       \n",
       "2018-06-01                     0.101761                          0.114463  \n",
       "2018-05-01                     0.061652                          0.054862  \n",
       "2018-04-01                     0.072092                         -0.064945  \n",
       "2018-03-01                     0.078647                         -0.032413  \n",
       "2018-02-01                     0.091516                          0.015687  "
      ]
     },
     "execution_count": 24,
     "metadata": {},
     "output_type": "execute_result"
    }
   ],
   "source": [
    "# Check the dataframe\n",
    "data.head()"
   ]
  },
  {
   "cell_type": "code",
   "execution_count": 25,
   "metadata": {},
   "outputs": [],
   "source": [
    "# Copy econ features to econ dataframe and drop all sentiment variables\n",
    "econ = data.drop(data.columns[[6,7,8,9,10,11,12,13]], axis=1)"
   ]
  },
  {
   "cell_type": "code",
   "execution_count": 26,
   "metadata": {},
   "outputs": [
    {
     "data": {
      "text/html": [
       "<div>\n",
       "<style scoped>\n",
       "    .dataframe tbody tr th:only-of-type {\n",
       "        vertical-align: middle;\n",
       "    }\n",
       "\n",
       "    .dataframe tbody tr th {\n",
       "        vertical-align: top;\n",
       "    }\n",
       "\n",
       "    .dataframe thead th {\n",
       "        text-align: right;\n",
       "    }\n",
       "</style>\n",
       "<table border=\"1\" class=\"dataframe\">\n",
       "  <thead>\n",
       "    <tr style=\"text-align: right;\">\n",
       "      <th></th>\n",
       "      <th>ur</th>\n",
       "      <th>pi_gr</th>\n",
       "      <th>nyse_gr</th>\n",
       "      <th>tb_sqrt_diff</th>\n",
       "      <th>ics_log_diff</th>\n",
       "      <th>pce_gr_diff</th>\n",
       "    </tr>\n",
       "    <tr>\n",
       "      <th>date</th>\n",
       "      <th></th>\n",
       "      <th></th>\n",
       "      <th></th>\n",
       "      <th></th>\n",
       "      <th></th>\n",
       "      <th></th>\n",
       "    </tr>\n",
       "  </thead>\n",
       "  <tbody>\n",
       "    <tr>\n",
       "      <th>2018-06-01</th>\n",
       "      <td>4.0</td>\n",
       "      <td>0.003863</td>\n",
       "      <td>-0.001827</td>\n",
       "      <td>0.014587</td>\n",
       "      <td>0.002039</td>\n",
       "      <td>-0.001110</td>\n",
       "    </tr>\n",
       "    <tr>\n",
       "      <th>2018-05-01</th>\n",
       "      <td>3.8</td>\n",
       "      <td>0.003728</td>\n",
       "      <td>0.000941</td>\n",
       "      <td>0.037168</td>\n",
       "      <td>-0.008130</td>\n",
       "      <td>0.008168</td>\n",
       "    </tr>\n",
       "    <tr>\n",
       "      <th>2018-04-01</th>\n",
       "      <td>3.9</td>\n",
       "      <td>-0.004827</td>\n",
       "      <td>-0.002903</td>\n",
       "      <td>0.022809</td>\n",
       "      <td>-0.025975</td>\n",
       "      <td>-0.008891</td>\n",
       "    </tr>\n",
       "    <tr>\n",
       "      <th>2018-03-01</th>\n",
       "      <td>4.1</td>\n",
       "      <td>0.003938</td>\n",
       "      <td>-0.015846</td>\n",
       "      <td>0.050844</td>\n",
       "      <td>0.016907</td>\n",
       "      <td>0.007407</td>\n",
       "    </tr>\n",
       "    <tr>\n",
       "      <th>2018-02-01</th>\n",
       "      <td>4.1</td>\n",
       "      <td>0.003282</td>\n",
       "      <td>-0.053517</td>\n",
       "      <td>0.065562</td>\n",
       "      <td>0.040947</td>\n",
       "      <td>0.001663</td>\n",
       "    </tr>\n",
       "  </tbody>\n",
       "</table>\n",
       "</div>"
      ],
      "text/plain": [
       "             ur     pi_gr   nyse_gr  tb_sqrt_diff  ics_log_diff  pce_gr_diff\n",
       "date                                                                        \n",
       "2018-06-01  4.0  0.003863 -0.001827      0.014587      0.002039    -0.001110\n",
       "2018-05-01  3.8  0.003728  0.000941      0.037168     -0.008130     0.008168\n",
       "2018-04-01  3.9 -0.004827 -0.002903      0.022809     -0.025975    -0.008891\n",
       "2018-03-01  4.1  0.003938 -0.015846      0.050844      0.016907     0.007407\n",
       "2018-02-01  4.1  0.003282 -0.053517      0.065562      0.040947     0.001663"
      ]
     },
     "execution_count": 26,
     "metadata": {},
     "output_type": "execute_result"
    }
   ],
   "source": [
    "# Check the dataframe\n",
    "econ.head()"
   ]
  },
  {
   "cell_type": "code",
   "execution_count": 27,
   "metadata": {},
   "outputs": [],
   "source": [
    "# Instantiate the VAR model using the combined econ and sentiment variables\n",
    "comb_model = VAR(data)"
   ]
  },
  {
   "cell_type": "code",
   "execution_count": 28,
   "metadata": {},
   "outputs": [
    {
     "name": "stdout",
     "output_type": "stream",
     "text": [
      "                 VAR Order Selection                 \n",
      "=====================================================\n",
      "           aic          bic          fpe         hqic\n",
      "-----------------------------------------------------\n",
      "0       -91.97       -91.57    1.141e-40       -91.81\n",
      "1      -99.89*      -93.94*   4.360e-44*      -97.49*\n",
      "2       -98.88       -87.37    1.649e-43       -94.25\n",
      "=====================================================\n",
      "* Minimum\n",
      "\n",
      "Using 1 based on bic criterion\n"
     ]
    }
   ],
   "source": [
    "# Fit the model to the combined variables\n",
    "comb_fitted = comb_model.fit(maxlags=2, ic='bic', verbose=True, trend='c')"
   ]
  },
  {
   "cell_type": "code",
   "execution_count": 29,
   "metadata": {
    "scrolled": false
   },
   "outputs": [
    {
     "data": {
      "text/plain": [
       "  Summary of Regression Results   \n",
       "==================================\n",
       "Model:                         VAR\n",
       "Method:                        OLS\n",
       "Date:           Tue, 18, Jun, 2019\n",
       "Time:                     17:21:51\n",
       "--------------------------------------------------------------------\n",
       "No. of Equations:         14.0000    BIC:                   -93.7304\n",
       "Nobs:                     88.0000    HQIC:                  -97.2605\n",
       "Log likelihood:           2846.13    FPE:                5.57649e-44\n",
       "AIC:                     -99.6422    Det(Omega_mle):     6.15740e-45\n",
       "--------------------------------------------------------------------\n",
       "Results for equation ur\n",
       "======================================================================================================\n",
       "                                         coefficient       std. error           t-stat            prob\n",
       "------------------------------------------------------------------------------------------------------\n",
       "const                                      -0.827841         0.471726           -1.755           0.083\n",
       "L1.ur                                       1.011513         0.011859           85.292           0.000\n",
       "L1.pi_gr                                    1.511155         1.787599            0.845           0.401\n",
       "L1.nyse_gr                                  0.130882         0.435033            0.301           0.764\n",
       "L1.tb_sqrt_diff                             0.289768         0.323562            0.896           0.373\n",
       "L1.ics_log_diff                             1.056703         0.304881            3.466           0.001\n",
       "L1.pce_gr_diff                             -1.561460         2.838331           -0.550           0.584\n",
       "L1.perc_pos_rev_weighted                    0.085887         0.103277            0.832           0.408\n",
       "L1.perc_neg_rev_weighted                    0.197955         0.232477            0.852           0.397\n",
       "L1.perc_uncert_rev_weighted                 0.367334         0.491891            0.747           0.458\n",
       "L1.perc_litig_rev_weighted                  0.080162         0.983426            0.082           0.935\n",
       "L1.perc_modal_wk_rev_weighted              -0.371585         0.736801           -0.504           0.616\n",
       "L1.perc_modal_mod_rev_weighted              0.439772         0.461822            0.952           0.344\n",
       "L1.perc_constrain_rev_weighted             -0.172817         0.992679           -0.174           0.862\n",
       "L1.perc_modal_str_rev_weighted_diff        -0.557680         0.349682           -1.595           0.115\n",
       "======================================================================================================\n",
       "\n",
       "Results for equation pi_gr\n",
       "======================================================================================================\n",
       "                                         coefficient       std. error           t-stat            prob\n",
       "------------------------------------------------------------------------------------------------------\n",
       "const                                       0.023636         0.029573            0.799           0.427\n",
       "L1.ur                                      -0.000248         0.000743           -0.333           0.740\n",
       "L1.pi_gr                                   -0.191584         0.112067           -1.710           0.092\n",
       "L1.nyse_gr                                  0.005480         0.027273            0.201           0.841\n",
       "L1.tb_sqrt_diff                            -0.022572         0.020285           -1.113           0.269\n",
       "L1.ics_log_diff                            -0.032822         0.019113           -1.717           0.090\n",
       "L1.pce_gr_diff                             -0.253599         0.177939           -1.425           0.158\n",
       "L1.perc_pos_rev_weighted                    0.001272         0.006475            0.196           0.845\n",
       "L1.perc_neg_rev_weighted                    0.000952         0.014574            0.065           0.948\n",
       "L1.perc_uncert_rev_weighted                -0.051466         0.030837           -1.669           0.099\n",
       "L1.perc_litig_rev_weighted                  0.072437         0.061652            1.175           0.244\n",
       "L1.perc_modal_wk_rev_weighted               0.072924         0.046191            1.579           0.119\n",
       "L1.perc_modal_mod_rev_weighted             -0.037111         0.028952           -1.282           0.204\n",
       "L1.perc_constrain_rev_weighted              0.098288         0.062232            1.579           0.119\n",
       "L1.perc_modal_str_rev_weighted_diff         0.037344         0.021922            1.703           0.093\n",
       "======================================================================================================\n",
       "\n",
       "Results for equation nyse_gr\n",
       "======================================================================================================\n",
       "                                         coefficient       std. error           t-stat            prob\n",
       "------------------------------------------------------------------------------------------------------\n",
       "const                                       0.045147         0.126858            0.356           0.723\n",
       "L1.ur                                       0.000294         0.003189            0.092           0.927\n",
       "L1.pi_gr                                   -0.437810         0.480726           -0.911           0.365\n",
       "L1.nyse_gr                                 -0.170356         0.116990           -1.456           0.150\n",
       "L1.tb_sqrt_diff                             0.110288         0.087013            1.267           0.209\n",
       "L1.ics_log_diff                             0.032946         0.081990            0.402           0.689\n",
       "L1.pce_gr_diff                             -0.188130         0.763292           -0.246           0.806\n",
       "L1.perc_pos_rev_weighted                    0.002140         0.027774            0.077           0.939\n",
       "L1.perc_neg_rev_weighted                    0.035601         0.062518            0.569           0.571\n",
       "L1.perc_uncert_rev_weighted                 0.036921         0.132281            0.279           0.781\n",
       "L1.perc_litig_rev_weighted                 -0.179523         0.264466           -0.679           0.499\n",
       "L1.perc_modal_wk_rev_weighted               0.144604         0.198143            0.730           0.468\n",
       "L1.perc_modal_mod_rev_weighted             -0.226850         0.124195           -1.827           0.072\n",
       "L1.perc_constrain_rev_weighted             -0.132276         0.266954           -0.496           0.622\n",
       "L1.perc_modal_str_rev_weighted_diff         0.043283         0.094037            0.460           0.647\n",
       "======================================================================================================\n",
       "\n",
       "Results for equation tb_sqrt_diff\n",
       "======================================================================================================\n",
       "                                         coefficient       std. error           t-stat            prob\n",
       "------------------------------------------------------------------------------------------------------\n",
       "const                                       0.095860         0.175169            0.547           0.586\n",
       "L1.ur                                      -0.006868         0.004404           -1.560           0.123\n",
       "L1.pi_gr                                    0.302703         0.663800            0.456           0.650\n",
       "L1.nyse_gr                                 -0.247999         0.161544           -1.535           0.129\n",
       "L1.tb_sqrt_diff                             0.133182         0.120150            1.108           0.271\n",
       "L1.ics_log_diff                            -0.073846         0.113214           -0.652           0.516\n",
       "L1.pce_gr_diff                             -2.362532         1.053975           -2.242           0.028\n",
       "L1.perc_pos_rev_weighted                    0.015812         0.038351            0.412           0.681\n",
       "L1.perc_neg_rev_weighted                   -0.059802         0.086327           -0.693           0.491\n",
       "L1.perc_uncert_rev_weighted                -0.182237         0.182657           -0.998           0.322\n",
       "L1.perc_litig_rev_weighted                  0.403115         0.365182            1.104           0.273\n",
       "L1.perc_modal_wk_rev_weighted               0.530321         0.273601            1.938           0.056\n",
       "L1.perc_modal_mod_rev_weighted             -0.176703         0.171491           -1.030           0.306\n",
       "L1.perc_constrain_rev_weighted              0.159377         0.368618            0.432           0.667\n",
       "L1.perc_modal_str_rev_weighted_diff         0.020875         0.129850            0.161           0.873\n",
       "======================================================================================================\n",
       "\n",
       "Results for equation ics_log_diff\n",
       "======================================================================================================\n",
       "                                         coefficient       std. error           t-stat            prob\n",
       "------------------------------------------------------------------------------------------------------\n",
       "const                                       0.198786         0.154878            1.284           0.203\n",
       "L1.ur                                       0.005888         0.003894            1.512           0.135\n",
       "L1.pi_gr                                    2.099192         0.586907            3.577           0.001\n",
       "L1.nyse_gr                                  0.129505         0.142831            0.907           0.368\n",
       "L1.tb_sqrt_diff                             0.071196         0.106232            0.670           0.505\n",
       "L1.ics_log_diff                            -0.091076         0.100099           -0.910           0.366\n",
       "L1.pce_gr_diff                             -0.410817         0.931884           -0.441           0.661\n",
       "L1.perc_pos_rev_weighted                    0.019691         0.033908            0.581           0.563\n",
       "L1.perc_neg_rev_weighted                    0.053561         0.076327            0.702           0.485\n",
       "L1.perc_uncert_rev_weighted                -0.370913         0.161498           -2.297           0.025\n",
       "L1.perc_litig_rev_weighted                  0.352927         0.322880            1.093           0.278\n",
       "L1.perc_modal_wk_rev_weighted               0.727165         0.241907            3.006           0.004\n",
       "L1.perc_modal_mod_rev_weighted             -0.487163         0.151626           -3.213           0.002\n",
       "L1.perc_constrain_rev_weighted             -0.255242         0.325917           -0.783           0.436\n",
       "L1.perc_modal_str_rev_weighted_diff         0.058620         0.114808            0.511           0.611\n",
       "======================================================================================================\n",
       "\n",
       "Results for equation pce_gr_diff\n",
       "======================================================================================================\n",
       "                                         coefficient       std. error           t-stat            prob\n",
       "------------------------------------------------------------------------------------------------------\n",
       "const                                      -0.008502         0.017257           -0.493           0.624\n",
       "L1.ur                                       0.000077         0.000434            0.177           0.860\n",
       "L1.pi_gr                                    0.082447         0.065396            1.261           0.211\n",
       "L1.nyse_gr                                 -0.002020         0.015915           -0.127           0.899\n",
       "L1.tb_sqrt_diff                             0.013115         0.011837            1.108           0.272\n",
       "L1.ics_log_diff                             0.000939         0.011153            0.084           0.933\n",
       "L1.pce_gr_diff                             -0.566914         0.103834           -5.460           0.000\n",
       "L1.perc_pos_rev_weighted                    0.001636         0.003778            0.433           0.666\n",
       "L1.perc_neg_rev_weighted                    0.003350         0.008505            0.394           0.695\n",
       "L1.perc_uncert_rev_weighted                 0.003663         0.017995            0.204           0.839\n",
       "L1.perc_litig_rev_weighted                 -0.006581         0.035977           -0.183           0.855\n",
       "L1.perc_modal_wk_rev_weighted              -0.013203         0.026954           -0.490           0.626\n",
       "L1.perc_modal_mod_rev_weighted              0.002661         0.016895            0.157           0.875\n",
       "L1.perc_constrain_rev_weighted              0.018370         0.036315            0.506           0.614\n",
       "L1.perc_modal_str_rev_weighted_diff         0.004655         0.012792            0.364           0.717\n",
       "======================================================================================================\n",
       "\n",
       "Results for equation perc_pos_rev_weighted\n",
       "======================================================================================================\n",
       "                                         coefficient       std. error           t-stat            prob\n",
       "------------------------------------------------------------------------------------------------------\n",
       "const                                       0.344641         0.428819            0.804           0.424\n",
       "L1.ur                                      -0.009415         0.010781           -0.873           0.385\n",
       "L1.pi_gr                                   -1.153307         1.625003           -0.710           0.480\n",
       "L1.nyse_gr                                 -0.337124         0.395463           -0.852           0.397\n",
       "L1.tb_sqrt_diff                             0.265320         0.294132            0.902           0.370\n",
       "L1.ics_log_diff                            -0.184759         0.277150           -0.667           0.507\n",
       "L1.pce_gr_diff                             -4.291936         2.580162           -1.663           0.101\n",
       "L1.perc_pos_rev_weighted                    0.676823         0.093883            7.209           0.000\n",
       "L1.perc_neg_rev_weighted                    0.209553         0.211331            0.992           0.325\n",
       "L1.perc_uncert_rev_weighted                 0.232345         0.447149            0.520           0.605\n",
       "L1.perc_litig_rev_weighted                  0.465557         0.893976            0.521           0.604\n",
       "L1.perc_modal_wk_rev_weighted               0.825731         0.669783            1.233           0.222\n",
       "L1.perc_modal_mod_rev_weighted             -0.566914         0.419816           -1.350           0.181\n",
       "L1.perc_constrain_rev_weighted             -0.002954         0.902387           -0.003           0.997\n",
       "L1.perc_modal_str_rev_weighted_diff        -1.076825         0.317875           -3.388           0.001\n",
       "======================================================================================================\n",
       "\n",
       "Results for equation perc_neg_rev_weighted\n",
       "======================================================================================================\n",
       "                                         coefficient       std. error           t-stat            prob\n",
       "------------------------------------------------------------------------------------------------------\n",
       "const                                       0.993965         0.185818            5.349           0.000\n",
       "L1.ur                                      -0.011302         0.004672           -2.419           0.018\n",
       "L1.pi_gr                                    0.949496         0.704153            1.348           0.182\n",
       "L1.nyse_gr                                  0.200459         0.171364            1.170           0.246\n",
       "L1.tb_sqrt_diff                             0.026778         0.127454            0.210           0.834\n",
       "L1.ics_log_diff                            -0.059363         0.120096           -0.494           0.623\n",
       "L1.pce_gr_diff                             -0.072086         1.118047           -0.064           0.949\n",
       "L1.perc_pos_rev_weighted                   -0.109889         0.040682           -2.701           0.009\n",
       "L1.perc_neg_rev_weighted                    0.697632         0.091575            7.618           0.000\n",
       "L1.perc_uncert_rev_weighted                -0.352541         0.193761           -1.819           0.073\n",
       "L1.perc_litig_rev_weighted                  0.044484         0.387382            0.115           0.909\n",
       "L1.perc_modal_wk_rev_weighted              -0.142447         0.290233           -0.491           0.625\n",
       "L1.perc_modal_mod_rev_weighted             -0.226046         0.181917           -1.243           0.218\n",
       "L1.perc_constrain_rev_weighted              0.819633         0.391026            2.096           0.040\n",
       "L1.perc_modal_str_rev_weighted_diff         0.305252         0.137743            2.216           0.030\n",
       "======================================================================================================\n",
       "\n",
       "Results for equation perc_uncert_rev_weighted\n",
       "======================================================================================================\n",
       "                                         coefficient       std. error           t-stat            prob\n",
       "------------------------------------------------------------------------------------------------------\n",
       "const                                       0.755095         0.134643            5.608           0.000\n",
       "L1.ur                                      -0.002024         0.003385           -0.598           0.552\n",
       "L1.pi_gr                                    0.192386         0.510228            0.377           0.707\n",
       "L1.nyse_gr                                  0.048236         0.124170            0.388           0.699\n",
       "L1.tb_sqrt_diff                             0.190476         0.092353            2.062           0.043\n",
       "L1.ics_log_diff                             0.070334         0.087021            0.808           0.422\n",
       "L1.pce_gr_diff                             -1.179788         0.810134           -1.456           0.150\n",
       "L1.perc_pos_rev_weighted                   -0.105902         0.029478           -3.593           0.001\n",
       "L1.perc_neg_rev_weighted                   -0.020834         0.066355           -0.314           0.754\n",
       "L1.perc_uncert_rev_weighted                 0.385950         0.140399            2.749           0.008\n",
       "L1.perc_litig_rev_weighted                  0.030593         0.280696            0.109           0.914\n",
       "L1.perc_modal_wk_rev_weighted              -0.185541         0.210302           -0.882           0.381\n",
       "L1.perc_modal_mod_rev_weighted             -0.016582         0.131816           -0.126           0.900\n",
       "L1.perc_constrain_rev_weighted              0.879622         0.283336            3.105           0.003\n",
       "L1.perc_modal_str_rev_weighted_diff        -0.029468         0.099808           -0.295           0.769\n",
       "======================================================================================================\n",
       "\n",
       "Results for equation perc_litig_rev_weighted\n",
       "======================================================================================================\n",
       "                                         coefficient       std. error           t-stat            prob\n",
       "------------------------------------------------------------------------------------------------------\n",
       "const                                       0.092454         0.050018            1.848           0.069\n",
       "L1.ur                                      -0.000151         0.001257           -0.120           0.905\n",
       "L1.pi_gr                                   -0.208221         0.189542           -1.099           0.276\n",
       "L1.nyse_gr                                 -0.039059         0.046127           -0.847           0.400\n",
       "L1.tb_sqrt_diff                             0.020623         0.034308            0.601           0.550\n",
       "L1.ics_log_diff                             0.030003         0.032327            0.928           0.356\n",
       "L1.pce_gr_diff                             -0.633578         0.300953           -2.105           0.039\n",
       "L1.perc_pos_rev_weighted                   -0.001478         0.010951           -0.135           0.893\n",
       "L1.perc_neg_rev_weighted                    0.079730         0.024650            3.235           0.002\n",
       "L1.perc_uncert_rev_weighted                -0.089813         0.052156           -1.722           0.089\n",
       "L1.perc_litig_rev_weighted                  0.518320         0.104274            4.971           0.000\n",
       "L1.perc_modal_wk_rev_weighted               0.010042         0.078124            0.129           0.898\n",
       "L1.perc_modal_mod_rev_weighted             -0.070531         0.048968           -1.440           0.154\n",
       "L1.perc_constrain_rev_weighted             -0.076997         0.105255           -0.732           0.467\n",
       "L1.perc_modal_str_rev_weighted_diff         0.018818         0.037077            0.508           0.613\n",
       "======================================================================================================\n",
       "\n",
       "Results for equation perc_modal_wk_rev_weighted\n",
       "======================================================================================================\n",
       "                                         coefficient       std. error           t-stat            prob\n",
       "------------------------------------------------------------------------------------------------------\n",
       "const                                       0.513854         0.099772            5.150           0.000\n",
       "L1.ur                                      -0.004843         0.002508           -1.931           0.057\n",
       "L1.pi_gr                                    0.090277         0.378085            0.239           0.812\n",
       "L1.nyse_gr                                  0.000770         0.092011            0.008           0.993\n",
       "L1.tb_sqrt_diff                             0.046701         0.068435            0.682           0.497\n",
       "L1.ics_log_diff                            -0.060868         0.064484           -0.944           0.348\n",
       "L1.pce_gr_diff                             -0.174889         0.600319           -0.291           0.772\n",
       "L1.perc_pos_rev_weighted                   -0.082431         0.021844           -3.774           0.000\n",
       "L1.perc_neg_rev_weighted                   -0.046080         0.049170           -0.937           0.352\n",
       "L1.perc_uncert_rev_weighted                -0.231430         0.104037           -2.225           0.029\n",
       "L1.perc_litig_rev_weighted                  0.129501         0.207999            0.623           0.535\n",
       "L1.perc_modal_wk_rev_weighted               0.767971         0.155836            4.928           0.000\n",
       "L1.perc_modal_mod_rev_weighted             -0.097006         0.097677           -0.993           0.324\n",
       "L1.perc_constrain_rev_weighted              0.578715         0.209956            2.756           0.007\n",
       "L1.perc_modal_str_rev_weighted_diff         0.150370         0.073959            2.033           0.046\n",
       "======================================================================================================\n",
       "\n",
       "Results for equation perc_modal_mod_rev_weighted\n",
       "======================================================================================================\n",
       "                                         coefficient       std. error           t-stat            prob\n",
       "------------------------------------------------------------------------------------------------------\n",
       "const                                       0.863224         0.133271            6.477           0.000\n",
       "L1.ur                                      -0.008330         0.003350           -2.486           0.015\n",
       "L1.pi_gr                                    0.137099         0.505028            0.271           0.787\n",
       "L1.nyse_gr                                  0.036792         0.122904            0.299           0.766\n",
       "L1.tb_sqrt_diff                             0.005557         0.091412            0.061           0.952\n",
       "L1.ics_log_diff                             0.091748         0.086134            1.065           0.290\n",
       "L1.pce_gr_diff                             -0.220006         0.801878           -0.274           0.785\n",
       "L1.perc_pos_rev_weighted                   -0.146719         0.029178           -5.028           0.000\n",
       "L1.perc_neg_rev_weighted                   -0.039373         0.065679           -0.599           0.551\n",
       "L1.perc_uncert_rev_weighted                -0.283257         0.138968           -2.038           0.045\n",
       "L1.perc_litig_rev_weighted                  0.369812         0.277835            1.331           0.187\n",
       "L1.perc_modal_wk_rev_weighted               0.228367         0.208159            1.097           0.276\n",
       "L1.perc_modal_mod_rev_weighted              0.358903         0.130473            2.751           0.007\n",
       "L1.perc_constrain_rev_weighted              0.371542         0.280449            1.325           0.189\n",
       "L1.perc_modal_str_rev_weighted_diff         0.295473         0.098791            2.991           0.004\n",
       "======================================================================================================\n",
       "\n",
       "Results for equation perc_constrain_rev_weighted\n",
       "======================================================================================================\n",
       "                                         coefficient       std. error           t-stat            prob\n",
       "------------------------------------------------------------------------------------------------------\n",
       "const                                      -0.031082         0.044724           -0.695           0.489\n",
       "L1.ur                                       0.001853         0.001124            1.648           0.104\n",
       "L1.pi_gr                                    0.177767         0.169482            1.049           0.298\n",
       "L1.nyse_gr                                 -0.038327         0.041246           -0.929           0.356\n",
       "L1.tb_sqrt_diff                            -0.026238         0.030677           -0.855           0.395\n",
       "L1.ics_log_diff                             0.025707         0.028906            0.889           0.377\n",
       "L1.pce_gr_diff                             -0.208614         0.269102           -0.775           0.441\n",
       "L1.perc_pos_rev_weighted                    0.005805         0.009792            0.593           0.555\n",
       "L1.perc_neg_rev_weighted                    0.013092         0.022041            0.594           0.554\n",
       "L1.perc_uncert_rev_weighted                 0.013491         0.046636            0.289           0.773\n",
       "L1.perc_litig_rev_weighted                 -0.022652         0.093239           -0.243           0.809\n",
       "L1.perc_modal_wk_rev_weighted              -0.028878         0.069856           -0.413           0.681\n",
       "L1.perc_modal_mod_rev_weighted              0.044490         0.043785            1.016           0.313\n",
       "L1.perc_constrain_rev_weighted              0.663818         0.094116            7.053           0.000\n",
       "L1.perc_modal_str_rev_weighted_diff        -0.088216         0.033153           -2.661           0.010\n",
       "======================================================================================================\n",
       "\n",
       "Results for equation perc_modal_str_rev_weighted_diff\n",
       "======================================================================================================\n",
       "                                         coefficient       std. error           t-stat            prob\n",
       "------------------------------------------------------------------------------------------------------\n",
       "const                                      -0.219501         0.160499           -1.368           0.176\n",
       "L1.ur                                      -0.000921         0.004035           -0.228           0.820\n",
       "L1.pi_gr                                   -0.335741         0.608208           -0.552           0.583\n",
       "L1.nyse_gr                                  0.108090         0.148014            0.730           0.468\n",
       "L1.tb_sqrt_diff                             0.223245         0.110088            2.028           0.046\n",
       "L1.ics_log_diff                             0.050334         0.103732            0.485           0.629\n",
       "L1.pce_gr_diff                             -0.585384         0.965706           -0.606           0.546\n",
       "L1.perc_pos_rev_weighted                    0.013492         0.035139            0.384           0.702\n",
       "L1.perc_neg_rev_weighted                   -0.070792         0.079097           -0.895           0.374\n",
       "L1.perc_uncert_rev_weighted                 0.138522         0.167360            0.828           0.411\n",
       "L1.perc_litig_rev_weighted                 -0.037088         0.334598           -0.111           0.912\n",
       "L1.perc_modal_wk_rev_weighted              -0.065615         0.250687           -0.262           0.794\n",
       "L1.perc_modal_mod_rev_weighted              0.202352         0.157129            1.288           0.202\n",
       "L1.perc_constrain_rev_weighted              0.599950         0.337746            1.776           0.080\n",
       "L1.perc_modal_str_rev_weighted_diff        -0.083416         0.118975           -0.701           0.485\n",
       "======================================================================================================\n",
       "\n",
       "Correlation matrix of residuals\n",
       "                                          ur     pi_gr   nyse_gr  tb_sqrt_diff  ics_log_diff  pce_gr_diff  perc_pos_rev_weighted  perc_neg_rev_weighted  perc_uncert_rev_weighted  perc_litig_rev_weighted  perc_modal_wk_rev_weighted  perc_modal_mod_rev_weighted  perc_constrain_rev_weighted  perc_modal_str_rev_weighted_diff\n",
       "ur                                  1.000000 -0.198807  0.005127      0.038722      0.007880    -0.039838              -0.148886               0.070294                 -0.259479                 0.013423                   -0.228831                    -0.036643                    -0.106241                         -0.162405\n",
       "pi_gr                              -0.198807  1.000000 -0.109921     -0.075650     -0.016257     0.076701               0.126129              -0.163701                  0.045480                 0.121652                   -0.055354                    -0.138958                    -0.103030                          0.053763\n",
       "nyse_gr                             0.005127 -0.109921  1.000000      0.022445      0.011055    -0.032330               0.008719               0.224581                  0.108630                -0.109570                    0.192686                     0.126181                    -0.085995                          0.144655\n",
       "tb_sqrt_diff                        0.038722 -0.075650  0.022445      1.000000      0.031258     0.125962              -0.211898              -0.122083                 -0.123228                 0.097758                    0.015919                    -0.030823                    -0.060413                         -0.052032\n",
       "ics_log_diff                        0.007880 -0.016257  0.011055      0.031258      1.000000    -0.010134              -0.045892              -0.143705                  0.008571                -0.027871                   -0.071609                    -0.134303                     0.041573                          0.136476\n",
       "pce_gr_diff                        -0.039838  0.076701 -0.032330      0.125962     -0.010134     1.000000              -0.125971              -0.004264                 -0.193132                -0.068457                    0.016468                     0.114980                    -0.235756                          0.070475\n",
       "perc_pos_rev_weighted              -0.148886  0.126129  0.008719     -0.211898     -0.045892    -0.125971               1.000000              -0.219508                  0.164248                 0.094748                   -0.154673                    -0.121075                     0.147496                          0.165775\n",
       "perc_neg_rev_weighted               0.070294 -0.163701  0.224581     -0.122083     -0.143705    -0.004264              -0.219508               1.000000                  0.309166                -0.235847                    0.422953                     0.491586                    -0.122946                          0.092032\n",
       "perc_uncert_rev_weighted           -0.259479  0.045480  0.108630     -0.123228      0.008571    -0.193132               0.164248               0.309166                  1.000000                -0.002220                    0.669681                     0.277687                     0.071386                          0.353749\n",
       "perc_litig_rev_weighted             0.013423  0.121652 -0.109570      0.097758     -0.027871    -0.068457               0.094748              -0.235847                 -0.002220                 1.000000                   -0.367209                    -0.290200                    -0.128183                          0.022784\n",
       "perc_modal_wk_rev_weighted         -0.228831 -0.055354  0.192686      0.015919     -0.071609     0.016468              -0.154673               0.422953                  0.669681                -0.367209                    1.000000                     0.582880                    -0.121737                          0.206053\n",
       "perc_modal_mod_rev_weighted        -0.036643 -0.138958  0.126181     -0.030823     -0.134303     0.114980              -0.121075               0.491586                  0.277687                -0.290200                    0.582880                     1.000000                    -0.241318                          0.252424\n",
       "perc_constrain_rev_weighted        -0.106241 -0.103030 -0.085995     -0.060413      0.041573    -0.235756               0.147496              -0.122946                  0.071386                -0.128183                   -0.121737                    -0.241318                     1.000000                         -0.214388\n",
       "perc_modal_str_rev_weighted_diff   -0.162405  0.053763  0.144655     -0.052032      0.136476     0.070475               0.165775               0.092032                  0.353749                 0.022784                    0.206053                     0.252424                    -0.214388                          1.000000\n",
       "\n"
      ]
     },
     "execution_count": 29,
     "metadata": {},
     "output_type": "execute_result"
    }
   ],
   "source": [
    "# Print a summary of the models\n",
    "comb_fitted.summary()"
   ]
  },
  {
   "cell_type": "code",
   "execution_count": 30,
   "metadata": {},
   "outputs": [
    {
     "name": "stdout",
     "output_type": "stream",
     "text": [
      "Combined model R^2: 0.3033409524231241\n"
     ]
    }
   ],
   "source": [
    "# Calculate the combined r squared\n",
    "y_true = data['pce_gr_diff'].iloc[1:89]\n",
    "y_pred = comb_fitted.resid['pce_gr_diff'] + y_true\n",
    "print (\"Combined model R^2: {}\".format(r2_score(y_true, y_pred)))"
   ]
  },
  {
   "cell_type": "code",
   "execution_count": 31,
   "metadata": {},
   "outputs": [
    {
     "name": "stdout",
     "output_type": "stream",
     "text": [
      "Combined model MSE: 1.746804553927309e-05\n"
     ]
    }
   ],
   "source": [
    "# Calculate the mean squared error of the combined model\n",
    "comb_mse = np.mean(comb_fitted.resid['pce_gr_diff']**2)\n",
    "print (\"Combined model MSE: {}\".format(comb_mse))"
   ]
  },
  {
   "cell_type": "code",
   "execution_count": 32,
   "metadata": {},
   "outputs": [
    {
     "name": "stdout",
     "output_type": "stream",
     "text": [
      "Combined model Durbin-Watson test: 2.5328634408873234\n"
     ]
    }
   ],
   "source": [
    "# Run the Durbin Watson test\n",
    "print (\"Combined model Durbin-Watson test: {}\".format(durbin_watson(comb_fitted.resid['pce_gr_diff'])))"
   ]
  },
  {
   "cell_type": "code",
   "execution_count": 33,
   "metadata": {},
   "outputs": [],
   "source": [
    "# Instantiate the VAR model using the econ variables\n",
    "econ_model = VAR(econ)"
   ]
  },
  {
   "cell_type": "code",
   "execution_count": 34,
   "metadata": {},
   "outputs": [
    {
     "name": "stdout",
     "output_type": "stream",
     "text": [
      "                 VAR Order Selection                 \n",
      "=====================================================\n",
      "           aic          bic          fpe         hqic\n",
      "-----------------------------------------------------\n",
      "0       -38.34       -38.17    2.228e-17       -38.27\n",
      "1       -43.66      -42.47*    1.100e-19       -43.18\n",
      "2      -44.13*       -41.92   6.936e-20*      -43.24*\n",
      "=====================================================\n",
      "* Minimum\n",
      "\n",
      "Using 1 based on bic criterion\n"
     ]
    }
   ],
   "source": [
    "# Fit the model to the econ data\n",
    "econ_fitted = econ_model.fit(maxlags=2, ic='bic', verbose=True, trend='c')"
   ]
  },
  {
   "cell_type": "code",
   "execution_count": 35,
   "metadata": {
    "scrolled": false
   },
   "outputs": [
    {
     "data": {
      "text/plain": [
       "  Summary of Regression Results   \n",
       "==================================\n",
       "Model:                         VAR\n",
       "Method:                        OLS\n",
       "Date:           Tue, 18, Jun, 2019\n",
       "Time:                     17:21:51\n",
       "--------------------------------------------------------------------\n",
       "No. of Equations:         6.00000    BIC:                   -42.4596\n",
       "Nobs:                     88.0000    HQIC:                  -43.1656\n",
       "Log likelihood:           1213.05    FPE:                1.11537e-19\n",
       "AIC:                     -43.6420    Det(Omega_mle):     7.04649e-20\n",
       "--------------------------------------------------------------------\n",
       "Results for equation ur\n",
       "==================================================================================\n",
       "                     coefficient       std. error           t-stat            prob\n",
       "----------------------------------------------------------------------------------\n",
       "const                   0.009825         0.056289            0.175           0.862\n",
       "L1.ur                   1.006361         0.008557          117.611           0.000\n",
       "L1.pi_gr                1.210979         1.696079            0.714           0.477\n",
       "L1.nyse_gr              0.131370         0.409557            0.321           0.749\n",
       "L1.tb_sqrt_diff         0.201771         0.293805            0.687           0.494\n",
       "L1.ics_log_diff         0.960370         0.287296            3.343           0.001\n",
       "L1.pce_gr_diff         -1.438920         2.749622           -0.523           0.602\n",
       "==================================================================================\n",
       "\n",
       "Results for equation pi_gr\n",
       "==================================================================================\n",
       "                     coefficient       std. error           t-stat            prob\n",
       "----------------------------------------------------------------------------------\n",
       "const                   0.004612         0.003593            1.284           0.203\n",
       "L1.ur                  -0.000387         0.000546           -0.708           0.481\n",
       "L1.pi_gr               -0.138910         0.108260           -1.283           0.203\n",
       "L1.nyse_gr              0.009626         0.026142            0.368           0.714\n",
       "L1.tb_sqrt_diff        -0.012863         0.018753           -0.686           0.495\n",
       "L1.ics_log_diff        -0.022995         0.018338           -1.254           0.213\n",
       "L1.pce_gr_diff         -0.257348         0.175507           -1.466           0.146\n",
       "==================================================================================\n",
       "\n",
       "Results for equation nyse_gr\n",
       "==================================================================================\n",
       "                     coefficient       std. error           t-stat            prob\n",
       "----------------------------------------------------------------------------------\n",
       "const                  -0.001809         0.015084           -0.120           0.905\n",
       "L1.ur                   0.000864         0.002293            0.377           0.707\n",
       "L1.pi_gr               -0.284457         0.454503           -0.626           0.533\n",
       "L1.nyse_gr             -0.121678         0.109750           -1.109           0.271\n",
       "L1.tb_sqrt_diff         0.105647         0.078732            1.342           0.183\n",
       "L1.ics_log_diff         0.068736         0.076988            0.893           0.375\n",
       "L1.pce_gr_diff         -0.273812         0.736824           -0.372           0.711\n",
       "==================================================================================\n",
       "\n",
       "Results for equation tb_sqrt_diff\n",
       "==================================================================================\n",
       "                     coefficient       std. error           t-stat            prob\n",
       "----------------------------------------------------------------------------------\n",
       "const                   0.061670         0.020760            2.971           0.004\n",
       "L1.ur                  -0.008572         0.003156           -2.716           0.008\n",
       "L1.pi_gr                0.597036         0.625532            0.954           0.343\n",
       "L1.nyse_gr             -0.229679         0.151049           -1.521           0.132\n",
       "L1.tb_sqrt_diff         0.217507         0.108358            2.007           0.048\n",
       "L1.ics_log_diff        -0.033321         0.105958           -0.314           0.754\n",
       "L1.pce_gr_diff         -2.574225         1.014090           -2.538           0.013\n",
       "==================================================================================\n",
       "\n",
       "Results for equation ics_log_diff\n",
       "==================================================================================\n",
       "                     coefficient       std. error           t-stat            prob\n",
       "----------------------------------------------------------------------------------\n",
       "const                  -0.012646         0.019663           -0.643           0.522\n",
       "L1.ur                   0.001439         0.002989            0.481           0.631\n",
       "L1.pi_gr                2.526227         0.592486            4.264           0.000\n",
       "L1.nyse_gr              0.190882         0.143069            1.334           0.186\n",
       "L1.tb_sqrt_diff         0.145585         0.102634            1.418           0.160\n",
       "L1.ics_log_diff         0.017334         0.100360            0.173           0.863\n",
       "L1.pce_gr_diff         -0.583868         0.960517           -0.608           0.545\n",
       "==================================================================================\n",
       "\n",
       "Results for equation pce_gr_diff\n",
       "==================================================================================\n",
       "                     coefficient       std. error           t-stat            prob\n",
       "----------------------------------------------------------------------------------\n",
       "const                  -0.000930         0.002007           -0.463           0.644\n",
       "L1.ur                   0.000120         0.000305            0.394           0.695\n",
       "L1.pi_gr                0.084075         0.060479            1.390           0.168\n",
       "L1.nyse_gr             -0.001008         0.014604           -0.069           0.945\n",
       "L1.tb_sqrt_diff         0.010234         0.010476            0.977           0.332\n",
       "L1.ics_log_diff         0.000979         0.010244            0.096           0.924\n",
       "L1.pce_gr_diff         -0.556893         0.098046           -5.680           0.000\n",
       "==================================================================================\n",
       "\n",
       "Correlation matrix of residuals\n",
       "                      ur     pi_gr   nyse_gr  tb_sqrt_diff  ics_log_diff  pce_gr_diff\n",
       "ur              1.000000 -0.226733 -0.021801      0.017204     -0.026843    -0.036761\n",
       "pi_gr          -0.226733  1.000000 -0.068394     -0.020948      0.057369     0.092926\n",
       "nyse_gr        -0.021801 -0.068394  1.000000      0.040167      0.067171    -0.022006\n",
       "tb_sqrt_diff    0.017204 -0.020948  0.040167      1.000000      0.097869     0.112221\n",
       "ics_log_diff   -0.026843  0.057369  0.067171      0.097869      1.000000    -0.021785\n",
       "pce_gr_diff    -0.036761  0.092926 -0.022006      0.112221     -0.021785     1.000000\n",
       "\n"
      ]
     },
     "execution_count": 35,
     "metadata": {},
     "output_type": "execute_result"
    }
   ],
   "source": [
    "# Print a summary of the models\n",
    "econ_fitted.summary()"
   ]
  },
  {
   "cell_type": "code",
   "execution_count": 36,
   "metadata": {},
   "outputs": [
    {
     "name": "stdout",
     "output_type": "stream",
     "text": [
      "Economic model R^2: 0.28749324079974536\n"
     ]
    }
   ],
   "source": [
    "# Calculate the combined r squared\n",
    "y_true = econ['pce_gr_diff'].iloc[1:89]\n",
    "y_pred = econ_fitted.resid['pce_gr_diff'] + y_true\n",
    "print (\"Economic model R^2: {}\".format(r2_score(y_true, y_pred)))"
   ]
  },
  {
   "cell_type": "code",
   "execution_count": 37,
   "metadata": {},
   "outputs": [
    {
     "name": "stdout",
     "output_type": "stream",
     "text": [
      "Economic model MSE: 1.7865411437689707e-05\n"
     ]
    }
   ],
   "source": [
    "# Calculate the mean squared error of the econ model\n",
    "econ_mse = np.mean(econ_fitted.resid['pce_gr_diff']**2)\n",
    "print (\"Economic model MSE: {}\".format(econ_mse))"
   ]
  },
  {
   "cell_type": "code",
   "execution_count": 38,
   "metadata": {},
   "outputs": [
    {
     "name": "stdout",
     "output_type": "stream",
     "text": [
      "Economic model Durbin-Watson test: 2.5575996229732354\n"
     ]
    }
   ],
   "source": [
    "# Run the Durbin Watson test\n",
    "print (\"Economic model Durbin-Watson test: {}\".format (durbin_watson(econ_fitted.resid['pce_gr_diff'])))"
   ]
  },
  {
   "cell_type": "code",
   "execution_count": 39,
   "metadata": {},
   "outputs": [
    {
     "name": "stdout",
     "output_type": "stream",
     "text": [
      "Combined model Log Likelihood: 2846.125874607882\n",
      "Economic model Log Likelihood: 1213.0463632573587\n"
     ]
    }
   ],
   "source": [
    "# View the log likelihood values\n",
    "print (\"Combined model Log Likelihood: {}\".format(comb_fitted.llf))\n",
    "print (\"Economic model Log Likelihood: {}\".format(econ_fitted.llf))"
   ]
  },
  {
   "cell_type": "code",
   "execution_count": 40,
   "metadata": {},
   "outputs": [],
   "source": [
    "# Create a function that calculates the likelihood ratio test\n",
    "def likelihood_ratio(ll_model_1, ll_model_2):  # Model 1 is the more restrictive econ model\n",
    "    return (2*(ll_model_2 - ll_model_1))"
   ]
  },
  {
   "cell_type": "code",
   "execution_count": 41,
   "metadata": {},
   "outputs": [
    {
     "name": "stdout",
     "output_type": "stream",
     "text": [
      "Log Likelihood Ratio test p-value: 0.000\n"
     ]
    }
   ],
   "source": [
    "import math\n",
    "# Calculate the likelihood ratio and run the likelihood ratio test on a chi square distribution\n",
    "LR = likelihood_ratio(econ_fitted.llf, comb_fitted.llf)\n",
    "pval = chi2.sf(LR, 8) # Combined model +8 variables 8 d.f.\n",
    "print (\"Log Likelihood Ratio test p-value: {:4.03f}\".format((pval)))"
   ]
  }
 ],
 "metadata": {
  "kernelspec": {
   "display_name": "Python [conda env:gkopyenviro]",
   "language": "python",
   "name": "conda-env-gkopyenviro-py"
  },
  "language_info": {
   "codemirror_mode": {
    "name": "ipython",
    "version": 3
   },
   "file_extension": ".py",
   "mimetype": "text/x-python",
   "name": "python",
   "nbconvert_exporter": "python",
   "pygments_lexer": "ipython3",
   "version": "3.6.4"
  },
  "varInspector": {
   "cols": {
    "lenName": 16,
    "lenType": 16,
    "lenVar": 40
   },
   "kernels_config": {
    "python": {
     "delete_cmd_postfix": "",
     "delete_cmd_prefix": "del ",
     "library": "var_list.py",
     "varRefreshCmd": "print(var_dic_list())"
    },
    "r": {
     "delete_cmd_postfix": ") ",
     "delete_cmd_prefix": "rm(",
     "library": "var_list.r",
     "varRefreshCmd": "cat(var_dic_list()) "
    }
   },
   "types_to_exclude": [
    "module",
    "function",
    "builtin_function_or_method",
    "instance",
    "_Feature"
   ],
   "window_display": false
  }
 },
 "nbformat": 4,
 "nbformat_minor": 2
}
