{
 "cells": [
  {
   "cell_type": "code",
   "execution_count": 1,
   "metadata": {},
   "outputs": [],
   "source": [
    "# This notebook prepares the dataframes for analysis and runs\n",
    "# the Random Forest on the combined model (economic and sentiment features) and\n",
    "# the economic (only) model."
   ]
  },
  {
   "cell_type": "code",
   "execution_count": 2,
   "metadata": {},
   "outputs": [],
   "source": [
    "import warnings\n",
    "warnings.filterwarnings('ignore')"
   ]
  },
  {
   "cell_type": "code",
   "execution_count": 3,
   "metadata": {},
   "outputs": [],
   "source": [
    "import numpy as np\n",
    "import pandas as pd\n",
    "import matplotlib.pyplot as plt\n",
    "from sklearn.ensemble import RandomForestRegressor\n",
    "from sklearn.model_selection import GridSearchCV\n",
    "from sklearn.model_selection import TimeSeriesSplit\n",
    "from sklearn.metrics import r2_score, mean_absolute_error"
   ]
  },
  {
   "cell_type": "code",
   "execution_count": 4,
   "metadata": {},
   "outputs": [
    {
     "name": "stdout",
     "output_type": "stream",
     "text": [
      "month_date,ur,pi_gr,nyse_gr,gdp_log_diff,tb_sqrt_diff,ics_log_diff,pce_gr_diff\n",
      "\n",
      "2011-01-01,9.1,0.002028679786119758,0.016528644263536174,-0.0024113163305852225,0.013132595943347536,-0.004034975212179326,-0.004803188602163777\n",
      "\n"
     ]
    }
   ],
   "source": [
    "# Quick look at the first two lines of the econ CSV\n",
    "with open('data/econ_vars.csv') as f:\n",
    "    print(f.readline())\n",
    "    next(f)\n",
    "    print(f.readline())"
   ]
  },
  {
   "cell_type": "code",
   "execution_count": 5,
   "metadata": {},
   "outputs": [],
   "source": [
    "# Set data types for the econ features\n",
    "dts = {\"month_date\": str, \"ur\": np.float64\n",
    "    , \"pi_gr\": np.float64, \"nyse_gr\": np.float64\n",
    "    , \"gdp_log_diff\": np.float64, \"tb_sqrt_diff\": np.float64\n",
    "    , \"ics_log_diff\": np.float64, \"pce_gr_diff\": np.float64}"
   ]
  },
  {
   "cell_type": "code",
   "execution_count": 6,
   "metadata": {},
   "outputs": [],
   "source": [
    "# Import econ data\n",
    "data_raw = pd.read_csv(\"data/econ_vars.csv\"\n",
    "                   , sep=\",\"\n",
    "                   , skiprows=0\n",
    "                   , dtype=dts)"
   ]
  },
  {
   "cell_type": "code",
   "execution_count": 7,
   "metadata": {},
   "outputs": [
    {
     "data": {
      "text/plain": [
       "(91, 8)"
      ]
     },
     "execution_count": 7,
     "metadata": {},
     "output_type": "execute_result"
    }
   ],
   "source": [
    "# Check the shape of the raw econ data\n",
    "data_raw.shape"
   ]
  },
  {
   "cell_type": "code",
   "execution_count": 8,
   "metadata": {},
   "outputs": [],
   "source": [
    "# Copy raw data\n",
    "data = data_raw.copy()"
   ]
  },
  {
   "cell_type": "code",
   "execution_count": 9,
   "metadata": {},
   "outputs": [],
   "source": [
    "# Sort and reset index\n",
    "data.sort_index(ascending=False, inplace=True)\n",
    "data.reset_index(drop=True, inplace=True)"
   ]
  },
  {
   "cell_type": "code",
   "execution_count": 10,
   "metadata": {},
   "outputs": [
    {
     "data": {
      "text/html": [
       "<div>\n",
       "<style scoped>\n",
       "    .dataframe tbody tr th:only-of-type {\n",
       "        vertical-align: middle;\n",
       "    }\n",
       "\n",
       "    .dataframe tbody tr th {\n",
       "        vertical-align: top;\n",
       "    }\n",
       "\n",
       "    .dataframe thead th {\n",
       "        text-align: right;\n",
       "    }\n",
       "</style>\n",
       "<table border=\"1\" class=\"dataframe\">\n",
       "  <thead>\n",
       "    <tr style=\"text-align: right;\">\n",
       "      <th></th>\n",
       "      <th>month_date</th>\n",
       "      <th>ur</th>\n",
       "      <th>pi_gr</th>\n",
       "      <th>nyse_gr</th>\n",
       "      <th>gdp_log_diff</th>\n",
       "      <th>tb_sqrt_diff</th>\n",
       "      <th>ics_log_diff</th>\n",
       "      <th>pce_gr_diff</th>\n",
       "    </tr>\n",
       "  </thead>\n",
       "  <tbody>\n",
       "    <tr>\n",
       "      <th>0</th>\n",
       "      <td>2018-06-01</td>\n",
       "      <td>4.0</td>\n",
       "      <td>0.003863</td>\n",
       "      <td>-0.001827</td>\n",
       "      <td>0.000000</td>\n",
       "      <td>0.014587</td>\n",
       "      <td>0.002039</td>\n",
       "      <td>-0.001110</td>\n",
       "    </tr>\n",
       "    <tr>\n",
       "      <th>1</th>\n",
       "      <td>2018-05-01</td>\n",
       "      <td>3.8</td>\n",
       "      <td>0.003728</td>\n",
       "      <td>0.000941</td>\n",
       "      <td>0.010188</td>\n",
       "      <td>0.037168</td>\n",
       "      <td>-0.008130</td>\n",
       "      <td>0.008168</td>\n",
       "    </tr>\n",
       "    <tr>\n",
       "      <th>2</th>\n",
       "      <td>2018-04-01</td>\n",
       "      <td>3.9</td>\n",
       "      <td>-0.004827</td>\n",
       "      <td>-0.002903</td>\n",
       "      <td>0.010188</td>\n",
       "      <td>0.022809</td>\n",
       "      <td>-0.025975</td>\n",
       "      <td>-0.008891</td>\n",
       "    </tr>\n",
       "    <tr>\n",
       "      <th>3</th>\n",
       "      <td>2018-03-01</td>\n",
       "      <td>4.1</td>\n",
       "      <td>0.003938</td>\n",
       "      <td>-0.015846</td>\n",
       "      <td>0.000000</td>\n",
       "      <td>0.050844</td>\n",
       "      <td>0.016907</td>\n",
       "      <td>0.007407</td>\n",
       "    </tr>\n",
       "    <tr>\n",
       "      <th>4</th>\n",
       "      <td>2018-02-01</td>\n",
       "      <td>4.1</td>\n",
       "      <td>0.003282</td>\n",
       "      <td>-0.053517</td>\n",
       "      <td>0.005479</td>\n",
       "      <td>0.065562</td>\n",
       "      <td>0.040947</td>\n",
       "      <td>0.001663</td>\n",
       "    </tr>\n",
       "  </tbody>\n",
       "</table>\n",
       "</div>"
      ],
      "text/plain": [
       "   month_date   ur     pi_gr   nyse_gr  gdp_log_diff  tb_sqrt_diff  \\\n",
       "0  2018-06-01  4.0  0.003863 -0.001827      0.000000      0.014587   \n",
       "1  2018-05-01  3.8  0.003728  0.000941      0.010188      0.037168   \n",
       "2  2018-04-01  3.9 -0.004827 -0.002903      0.010188      0.022809   \n",
       "3  2018-03-01  4.1  0.003938 -0.015846      0.000000      0.050844   \n",
       "4  2018-02-01  4.1  0.003282 -0.053517      0.005479      0.065562   \n",
       "\n",
       "   ics_log_diff  pce_gr_diff  \n",
       "0      0.002039    -0.001110  \n",
       "1     -0.008130     0.008168  \n",
       "2     -0.025975    -0.008891  \n",
       "3      0.016907     0.007407  \n",
       "4      0.040947     0.001663  "
      ]
     },
     "execution_count": 10,
     "metadata": {},
     "output_type": "execute_result"
    }
   ],
   "source": [
    "# Check the dataframe\n",
    "data.head()"
   ]
  },
  {
   "cell_type": "code",
   "execution_count": 11,
   "metadata": {},
   "outputs": [
    {
     "name": "stdout",
     "output_type": "stream",
     "text": [
      "date,perc_pos_rev_weighted,perc_neg_rev_weighted,perc_uncert_rev_weighted,perc_litig_rev_weighted,perc_modal_wk_rev_weighted,perc_modal_mod_rev_weighted,perc_constrain_rev_weighted,perc_modal_str_rev_weighted_diff\n",
      "\n",
      "2011-03-01,1.9607048390000001,0.979452392,0.957424913,0.073102265,0.387478896,0.560045154,0.142131806,-0.0495581759999999\n",
      "\n"
     ]
    }
   ],
   "source": [
    "# Quick look at the first two lines of the sentiment CSV\n",
    "with open('data/rev_means_vars_stationary.csv') as f:\n",
    "    print(f.readline())\n",
    "    next(f)\n",
    "    print(f.readline())"
   ]
  },
  {
   "cell_type": "code",
   "execution_count": 12,
   "metadata": {},
   "outputs": [],
   "source": [
    "# Import sentiment data\n",
    "sent_raw = pd.read_csv(\"data/rev_means_vars_stationary.csv\"\n",
    "    , sep=\",\"\n",
    "    , skiprows=0\n",
    "    #, dtype=dts \n",
    "    , usecols=[0,1,2,3,4,5,6,7,8]\n",
    "    )"
   ]
  },
  {
   "cell_type": "code",
   "execution_count": 13,
   "metadata": {},
   "outputs": [
    {
     "data": {
      "text/plain": [
       "date                                 object\n",
       "perc_pos_rev_weighted               float64\n",
       "perc_neg_rev_weighted               float64\n",
       "perc_uncert_rev_weighted            float64\n",
       "perc_litig_rev_weighted             float64\n",
       "perc_modal_wk_rev_weighted          float64\n",
       "perc_modal_mod_rev_weighted         float64\n",
       "perc_constrain_rev_weighted         float64\n",
       "perc_modal_str_rev_weighted_diff    float64\n",
       "dtype: object"
      ]
     },
     "execution_count": 13,
     "metadata": {},
     "output_type": "execute_result"
    }
   ],
   "source": [
    "# Check the sentiment data types\n",
    "sent_raw.dtypes"
   ]
  },
  {
   "cell_type": "code",
   "execution_count": 14,
   "metadata": {},
   "outputs": [],
   "source": [
    "# Drop any observations with Nan\n",
    "sent_raw.dropna(inplace=True)"
   ]
  },
  {
   "cell_type": "code",
   "execution_count": 15,
   "metadata": {},
   "outputs": [],
   "source": [
    "#sort and reset index\n",
    "sent_raw.sort_values(by='date', ascending=False, inplace=True)\n",
    "sent_raw.reset_index(drop=True, inplace=True)"
   ]
  },
  {
   "cell_type": "code",
   "execution_count": 16,
   "metadata": {},
   "outputs": [
    {
     "data": {
      "text/plain": [
       "(89, 9)"
      ]
     },
     "execution_count": 16,
     "metadata": {},
     "output_type": "execute_result"
    }
   ],
   "source": [
    "# Confirm the shape of the dataframe\n",
    "sent_raw.shape"
   ]
  },
  {
   "cell_type": "code",
   "execution_count": 17,
   "metadata": {},
   "outputs": [
    {
     "data": {
      "text/html": [
       "<div>\n",
       "<style scoped>\n",
       "    .dataframe tbody tr th:only-of-type {\n",
       "        vertical-align: middle;\n",
       "    }\n",
       "\n",
       "    .dataframe tbody tr th {\n",
       "        vertical-align: top;\n",
       "    }\n",
       "\n",
       "    .dataframe thead th {\n",
       "        text-align: right;\n",
       "    }\n",
       "</style>\n",
       "<table border=\"1\" class=\"dataframe\">\n",
       "  <thead>\n",
       "    <tr style=\"text-align: right;\">\n",
       "      <th></th>\n",
       "      <th>date</th>\n",
       "      <th>perc_pos_rev_weighted</th>\n",
       "      <th>perc_neg_rev_weighted</th>\n",
       "      <th>perc_uncert_rev_weighted</th>\n",
       "      <th>perc_litig_rev_weighted</th>\n",
       "      <th>perc_modal_wk_rev_weighted</th>\n",
       "      <th>perc_modal_mod_rev_weighted</th>\n",
       "      <th>perc_constrain_rev_weighted</th>\n",
       "      <th>perc_modal_str_rev_weighted_diff</th>\n",
       "    </tr>\n",
       "  </thead>\n",
       "  <tbody>\n",
       "    <tr>\n",
       "      <th>0</th>\n",
       "      <td>2018-06-01</td>\n",
       "      <td>2.043836</td>\n",
       "      <td>0.890239</td>\n",
       "      <td>0.815790</td>\n",
       "      <td>0.094844</td>\n",
       "      <td>0.312586</td>\n",
       "      <td>0.506602</td>\n",
       "      <td>0.101761</td>\n",
       "      <td>0.114463</td>\n",
       "    </tr>\n",
       "    <tr>\n",
       "      <th>1</th>\n",
       "      <td>2018-05-01</td>\n",
       "      <td>1.915107</td>\n",
       "      <td>1.074677</td>\n",
       "      <td>0.803269</td>\n",
       "      <td>0.082565</td>\n",
       "      <td>0.401343</td>\n",
       "      <td>0.709648</td>\n",
       "      <td>0.061652</td>\n",
       "      <td>0.054862</td>\n",
       "    </tr>\n",
       "    <tr>\n",
       "      <th>2</th>\n",
       "      <td>2018-04-01</td>\n",
       "      <td>1.926137</td>\n",
       "      <td>1.068873</td>\n",
       "      <td>0.777739</td>\n",
       "      <td>0.095691</td>\n",
       "      <td>0.379909</td>\n",
       "      <td>0.669961</td>\n",
       "      <td>0.072092</td>\n",
       "      <td>-0.064945</td>\n",
       "    </tr>\n",
       "    <tr>\n",
       "      <th>3</th>\n",
       "      <td>2018-03-01</td>\n",
       "      <td>2.016781</td>\n",
       "      <td>0.979256</td>\n",
       "      <td>0.800769</td>\n",
       "      <td>0.102810</td>\n",
       "      <td>0.402890</td>\n",
       "      <td>0.677247</td>\n",
       "      <td>0.078647</td>\n",
       "      <td>-0.032413</td>\n",
       "    </tr>\n",
       "    <tr>\n",
       "      <th>4</th>\n",
       "      <td>2018-02-01</td>\n",
       "      <td>2.004129</td>\n",
       "      <td>0.963727</td>\n",
       "      <td>0.815629</td>\n",
       "      <td>0.098500</td>\n",
       "      <td>0.414424</td>\n",
       "      <td>0.688219</td>\n",
       "      <td>0.091516</td>\n",
       "      <td>0.015687</td>\n",
       "    </tr>\n",
       "  </tbody>\n",
       "</table>\n",
       "</div>"
      ],
      "text/plain": [
       "         date  perc_pos_rev_weighted  perc_neg_rev_weighted  \\\n",
       "0  2018-06-01               2.043836               0.890239   \n",
       "1  2018-05-01               1.915107               1.074677   \n",
       "2  2018-04-01               1.926137               1.068873   \n",
       "3  2018-03-01               2.016781               0.979256   \n",
       "4  2018-02-01               2.004129               0.963727   \n",
       "\n",
       "   perc_uncert_rev_weighted  perc_litig_rev_weighted  \\\n",
       "0                  0.815790                 0.094844   \n",
       "1                  0.803269                 0.082565   \n",
       "2                  0.777739                 0.095691   \n",
       "3                  0.800769                 0.102810   \n",
       "4                  0.815629                 0.098500   \n",
       "\n",
       "   perc_modal_wk_rev_weighted  perc_modal_mod_rev_weighted  \\\n",
       "0                    0.312586                     0.506602   \n",
       "1                    0.401343                     0.709648   \n",
       "2                    0.379909                     0.669961   \n",
       "3                    0.402890                     0.677247   \n",
       "4                    0.414424                     0.688219   \n",
       "\n",
       "   perc_constrain_rev_weighted  perc_modal_str_rev_weighted_diff  \n",
       "0                     0.101761                          0.114463  \n",
       "1                     0.061652                          0.054862  \n",
       "2                     0.072092                         -0.064945  \n",
       "3                     0.078647                         -0.032413  \n",
       "4                     0.091516                          0.015687  "
      ]
     },
     "execution_count": 17,
     "metadata": {},
     "output_type": "execute_result"
    }
   ],
   "source": [
    "# Check the dataframe\n",
    "sent_raw.head()"
   ]
  },
  {
   "cell_type": "code",
   "execution_count": 18,
   "metadata": {},
   "outputs": [],
   "source": [
    "# Copy raw data\n",
    "sent = sent_raw.copy()"
   ]
  },
  {
   "cell_type": "code",
   "execution_count": 19,
   "metadata": {},
   "outputs": [],
   "source": [
    "# Filter econ observations to match the sentiment dataframe\n",
    "data = data.iloc[0:89,:]"
   ]
  },
  {
   "cell_type": "code",
   "execution_count": 20,
   "metadata": {},
   "outputs": [],
   "source": [
    "# Combine the econ and sentiment dataframes\n",
    "data = pd.concat([data,sent], axis=1)"
   ]
  },
  {
   "cell_type": "code",
   "execution_count": 21,
   "metadata": {},
   "outputs": [],
   "source": [
    "# Replace the integer index with the date column\n",
    "data = data.set_index(\"date\")"
   ]
  },
  {
   "cell_type": "code",
   "execution_count": 22,
   "metadata": {},
   "outputs": [],
   "source": [
    "# Create response variable\n",
    "y_true = data['pce_gr_diff']"
   ]
  },
  {
   "cell_type": "code",
   "execution_count": 23,
   "metadata": {},
   "outputs": [],
   "source": [
    "# Drop the month_date column and the gdp column\n",
    "data = data.drop(data.columns[[0,4,7]], axis=1)"
   ]
  },
  {
   "cell_type": "code",
   "execution_count": 24,
   "metadata": {},
   "outputs": [
    {
     "data": {
      "text/html": [
       "<div>\n",
       "<style scoped>\n",
       "    .dataframe tbody tr th:only-of-type {\n",
       "        vertical-align: middle;\n",
       "    }\n",
       "\n",
       "    .dataframe tbody tr th {\n",
       "        vertical-align: top;\n",
       "    }\n",
       "\n",
       "    .dataframe thead th {\n",
       "        text-align: right;\n",
       "    }\n",
       "</style>\n",
       "<table border=\"1\" class=\"dataframe\">\n",
       "  <thead>\n",
       "    <tr style=\"text-align: right;\">\n",
       "      <th></th>\n",
       "      <th>ur</th>\n",
       "      <th>pi_gr</th>\n",
       "      <th>nyse_gr</th>\n",
       "      <th>tb_sqrt_diff</th>\n",
       "      <th>ics_log_diff</th>\n",
       "      <th>perc_pos_rev_weighted</th>\n",
       "      <th>perc_neg_rev_weighted</th>\n",
       "      <th>perc_uncert_rev_weighted</th>\n",
       "      <th>perc_litig_rev_weighted</th>\n",
       "      <th>perc_modal_wk_rev_weighted</th>\n",
       "      <th>perc_modal_mod_rev_weighted</th>\n",
       "      <th>perc_constrain_rev_weighted</th>\n",
       "      <th>perc_modal_str_rev_weighted_diff</th>\n",
       "    </tr>\n",
       "    <tr>\n",
       "      <th>date</th>\n",
       "      <th></th>\n",
       "      <th></th>\n",
       "      <th></th>\n",
       "      <th></th>\n",
       "      <th></th>\n",
       "      <th></th>\n",
       "      <th></th>\n",
       "      <th></th>\n",
       "      <th></th>\n",
       "      <th></th>\n",
       "      <th></th>\n",
       "      <th></th>\n",
       "      <th></th>\n",
       "    </tr>\n",
       "  </thead>\n",
       "  <tbody>\n",
       "    <tr>\n",
       "      <th>2018-06-01</th>\n",
       "      <td>4.0</td>\n",
       "      <td>0.003863</td>\n",
       "      <td>-0.001827</td>\n",
       "      <td>0.014587</td>\n",
       "      <td>0.002039</td>\n",
       "      <td>2.043836</td>\n",
       "      <td>0.890239</td>\n",
       "      <td>0.815790</td>\n",
       "      <td>0.094844</td>\n",
       "      <td>0.312586</td>\n",
       "      <td>0.506602</td>\n",
       "      <td>0.101761</td>\n",
       "      <td>0.114463</td>\n",
       "    </tr>\n",
       "    <tr>\n",
       "      <th>2018-05-01</th>\n",
       "      <td>3.8</td>\n",
       "      <td>0.003728</td>\n",
       "      <td>0.000941</td>\n",
       "      <td>0.037168</td>\n",
       "      <td>-0.008130</td>\n",
       "      <td>1.915107</td>\n",
       "      <td>1.074677</td>\n",
       "      <td>0.803269</td>\n",
       "      <td>0.082565</td>\n",
       "      <td>0.401343</td>\n",
       "      <td>0.709648</td>\n",
       "      <td>0.061652</td>\n",
       "      <td>0.054862</td>\n",
       "    </tr>\n",
       "    <tr>\n",
       "      <th>2018-04-01</th>\n",
       "      <td>3.9</td>\n",
       "      <td>-0.004827</td>\n",
       "      <td>-0.002903</td>\n",
       "      <td>0.022809</td>\n",
       "      <td>-0.025975</td>\n",
       "      <td>1.926137</td>\n",
       "      <td>1.068873</td>\n",
       "      <td>0.777739</td>\n",
       "      <td>0.095691</td>\n",
       "      <td>0.379909</td>\n",
       "      <td>0.669961</td>\n",
       "      <td>0.072092</td>\n",
       "      <td>-0.064945</td>\n",
       "    </tr>\n",
       "    <tr>\n",
       "      <th>2018-03-01</th>\n",
       "      <td>4.1</td>\n",
       "      <td>0.003938</td>\n",
       "      <td>-0.015846</td>\n",
       "      <td>0.050844</td>\n",
       "      <td>0.016907</td>\n",
       "      <td>2.016781</td>\n",
       "      <td>0.979256</td>\n",
       "      <td>0.800769</td>\n",
       "      <td>0.102810</td>\n",
       "      <td>0.402890</td>\n",
       "      <td>0.677247</td>\n",
       "      <td>0.078647</td>\n",
       "      <td>-0.032413</td>\n",
       "    </tr>\n",
       "    <tr>\n",
       "      <th>2018-02-01</th>\n",
       "      <td>4.1</td>\n",
       "      <td>0.003282</td>\n",
       "      <td>-0.053517</td>\n",
       "      <td>0.065562</td>\n",
       "      <td>0.040947</td>\n",
       "      <td>2.004129</td>\n",
       "      <td>0.963727</td>\n",
       "      <td>0.815629</td>\n",
       "      <td>0.098500</td>\n",
       "      <td>0.414424</td>\n",
       "      <td>0.688219</td>\n",
       "      <td>0.091516</td>\n",
       "      <td>0.015687</td>\n",
       "    </tr>\n",
       "  </tbody>\n",
       "</table>\n",
       "</div>"
      ],
      "text/plain": [
       "             ur     pi_gr   nyse_gr  tb_sqrt_diff  ics_log_diff  \\\n",
       "date                                                              \n",
       "2018-06-01  4.0  0.003863 -0.001827      0.014587      0.002039   \n",
       "2018-05-01  3.8  0.003728  0.000941      0.037168     -0.008130   \n",
       "2018-04-01  3.9 -0.004827 -0.002903      0.022809     -0.025975   \n",
       "2018-03-01  4.1  0.003938 -0.015846      0.050844      0.016907   \n",
       "2018-02-01  4.1  0.003282 -0.053517      0.065562      0.040947   \n",
       "\n",
       "            perc_pos_rev_weighted  perc_neg_rev_weighted  \\\n",
       "date                                                       \n",
       "2018-06-01               2.043836               0.890239   \n",
       "2018-05-01               1.915107               1.074677   \n",
       "2018-04-01               1.926137               1.068873   \n",
       "2018-03-01               2.016781               0.979256   \n",
       "2018-02-01               2.004129               0.963727   \n",
       "\n",
       "            perc_uncert_rev_weighted  perc_litig_rev_weighted  \\\n",
       "date                                                            \n",
       "2018-06-01                  0.815790                 0.094844   \n",
       "2018-05-01                  0.803269                 0.082565   \n",
       "2018-04-01                  0.777739                 0.095691   \n",
       "2018-03-01                  0.800769                 0.102810   \n",
       "2018-02-01                  0.815629                 0.098500   \n",
       "\n",
       "            perc_modal_wk_rev_weighted  perc_modal_mod_rev_weighted  \\\n",
       "date                                                                  \n",
       "2018-06-01                    0.312586                     0.506602   \n",
       "2018-05-01                    0.401343                     0.709648   \n",
       "2018-04-01                    0.379909                     0.669961   \n",
       "2018-03-01                    0.402890                     0.677247   \n",
       "2018-02-01                    0.414424                     0.688219   \n",
       "\n",
       "            perc_constrain_rev_weighted  perc_modal_str_rev_weighted_diff  \n",
       "date                                                                       \n",
       "2018-06-01                     0.101761                          0.114463  \n",
       "2018-05-01                     0.061652                          0.054862  \n",
       "2018-04-01                     0.072092                         -0.064945  \n",
       "2018-03-01                     0.078647                         -0.032413  \n",
       "2018-02-01                     0.091516                          0.015687  "
      ]
     },
     "execution_count": 24,
     "metadata": {},
     "output_type": "execute_result"
    }
   ],
   "source": [
    "# Check the dataframe\n",
    "data.head()"
   ]
  },
  {
   "cell_type": "code",
   "execution_count": 25,
   "metadata": {},
   "outputs": [],
   "source": [
    "# Copy econ features to econ dataframe and drop all sentiment variables\n",
    "econ = data.drop(data.columns[[5,6,7,8,9,10,11,12]], axis=1)"
   ]
  },
  {
   "cell_type": "code",
   "execution_count": 26,
   "metadata": {},
   "outputs": [
    {
     "data": {
      "text/html": [
       "<div>\n",
       "<style scoped>\n",
       "    .dataframe tbody tr th:only-of-type {\n",
       "        vertical-align: middle;\n",
       "    }\n",
       "\n",
       "    .dataframe tbody tr th {\n",
       "        vertical-align: top;\n",
       "    }\n",
       "\n",
       "    .dataframe thead th {\n",
       "        text-align: right;\n",
       "    }\n",
       "</style>\n",
       "<table border=\"1\" class=\"dataframe\">\n",
       "  <thead>\n",
       "    <tr style=\"text-align: right;\">\n",
       "      <th></th>\n",
       "      <th>ur</th>\n",
       "      <th>pi_gr</th>\n",
       "      <th>nyse_gr</th>\n",
       "      <th>tb_sqrt_diff</th>\n",
       "      <th>ics_log_diff</th>\n",
       "    </tr>\n",
       "    <tr>\n",
       "      <th>date</th>\n",
       "      <th></th>\n",
       "      <th></th>\n",
       "      <th></th>\n",
       "      <th></th>\n",
       "      <th></th>\n",
       "    </tr>\n",
       "  </thead>\n",
       "  <tbody>\n",
       "    <tr>\n",
       "      <th>2018-06-01</th>\n",
       "      <td>4.0</td>\n",
       "      <td>0.003863</td>\n",
       "      <td>-0.001827</td>\n",
       "      <td>0.014587</td>\n",
       "      <td>0.002039</td>\n",
       "    </tr>\n",
       "    <tr>\n",
       "      <th>2018-05-01</th>\n",
       "      <td>3.8</td>\n",
       "      <td>0.003728</td>\n",
       "      <td>0.000941</td>\n",
       "      <td>0.037168</td>\n",
       "      <td>-0.008130</td>\n",
       "    </tr>\n",
       "    <tr>\n",
       "      <th>2018-04-01</th>\n",
       "      <td>3.9</td>\n",
       "      <td>-0.004827</td>\n",
       "      <td>-0.002903</td>\n",
       "      <td>0.022809</td>\n",
       "      <td>-0.025975</td>\n",
       "    </tr>\n",
       "    <tr>\n",
       "      <th>2018-03-01</th>\n",
       "      <td>4.1</td>\n",
       "      <td>0.003938</td>\n",
       "      <td>-0.015846</td>\n",
       "      <td>0.050844</td>\n",
       "      <td>0.016907</td>\n",
       "    </tr>\n",
       "    <tr>\n",
       "      <th>2018-02-01</th>\n",
       "      <td>4.1</td>\n",
       "      <td>0.003282</td>\n",
       "      <td>-0.053517</td>\n",
       "      <td>0.065562</td>\n",
       "      <td>0.040947</td>\n",
       "    </tr>\n",
       "  </tbody>\n",
       "</table>\n",
       "</div>"
      ],
      "text/plain": [
       "             ur     pi_gr   nyse_gr  tb_sqrt_diff  ics_log_diff\n",
       "date                                                           \n",
       "2018-06-01  4.0  0.003863 -0.001827      0.014587      0.002039\n",
       "2018-05-01  3.8  0.003728  0.000941      0.037168     -0.008130\n",
       "2018-04-01  3.9 -0.004827 -0.002903      0.022809     -0.025975\n",
       "2018-03-01  4.1  0.003938 -0.015846      0.050844      0.016907\n",
       "2018-02-01  4.1  0.003282 -0.053517      0.065562      0.040947"
      ]
     },
     "execution_count": 26,
     "metadata": {},
     "output_type": "execute_result"
    }
   ],
   "source": [
    "# Check the dataframe\n",
    "econ.head()"
   ]
  },
  {
   "cell_type": "code",
   "execution_count": 27,
   "metadata": {},
   "outputs": [
    {
     "name": "stdout",
     "output_type": "stream",
     "text": [
      "TimeSeriesSplit(max_train_size=None, n_splits=3)\n"
     ]
    }
   ],
   "source": [
    "# create time series cross validation split\n",
    "tscv = TimeSeriesSplit(n_splits=3)\n",
    "print(tscv)"
   ]
  },
  {
   "cell_type": "code",
   "execution_count": 28,
   "metadata": {},
   "outputs": [],
   "source": [
    "# instantiate random forest object\n",
    "rfreg = RandomForestRegressor()"
   ]
  },
  {
   "cell_type": "code",
   "execution_count": 29,
   "metadata": {},
   "outputs": [],
   "source": [
    "# establish parameters for grid search object\n",
    "parameters = {\"n_estimators\": [50, 100],\n",
    "    \"max_features\": [3, 4, 6],\n",
    "    \"min_samples_leaf\": [3, 5, 10],     \n",
    "    \"max_depth\": [3, None],\n",
    "    \"min_samples_split\": [2, 5, 10],\n",
    "    \"bootstrap\": [True],\n",
    "    \"random_state\": [987]\n",
    "    }"
   ]
  },
  {
   "cell_type": "code",
   "execution_count": 30,
   "metadata": {},
   "outputs": [],
   "source": [
    "# create a grid search object\n",
    "comb_model_gs = GridSearchCV(estimator=rfreg\n",
    "                   , n_jobs=-1 # parallel execution -1 is all processors\n",
    "                   , verbose=1 # low verbosity\n",
    "                   , param_grid=parameters\n",
    "                   , cv=tscv # KFolds = 3\n",
    "                   , scoring=\"neg_mean_squared_error\"\n",
    "                    )"
   ]
  },
  {
   "cell_type": "code",
   "execution_count": 31,
   "metadata": {},
   "outputs": [
    {
     "name": "stdout",
     "output_type": "stream",
     "text": [
      "Fitting 3 folds for each of 108 candidates, totalling 324 fits\n"
     ]
    },
    {
     "name": "stderr",
     "output_type": "stream",
     "text": [
      "[Parallel(n_jobs=-1)]: Done  32 tasks      | elapsed:    0.8s\n",
      "[Parallel(n_jobs=-1)]: Done 324 out of 324 | elapsed:    4.3s finished\n"
     ]
    },
    {
     "data": {
      "text/plain": [
       "GridSearchCV(cv=TimeSeriesSplit(max_train_size=None, n_splits=3),\n",
       "       error_score='raise',\n",
       "       estimator=RandomForestRegressor(bootstrap=True, criterion='mse', max_depth=None,\n",
       "           max_features='auto', max_leaf_nodes=None,\n",
       "           min_impurity_decrease=0.0, min_impurity_split=None,\n",
       "           min_samples_leaf=1, min_samples_split=2,\n",
       "           min_weight_fraction_leaf=0.0, n_estimators=10, n_jobs=1,\n",
       "           oob_score=False, random_state=None, verbose=0, warm_start=False),\n",
       "       fit_params=None, iid=True, n_jobs=-1,\n",
       "       param_grid={'n_estimators': [50, 100], 'max_features': [3, 4, 6], 'min_samples_leaf': [3, 5, 10], 'max_depth': [3, None], 'min_samples_split': [2, 5, 10], 'bootstrap': [True], 'random_state': [987]},\n",
       "       pre_dispatch='2*n_jobs', refit=True, return_train_score='warn',\n",
       "       scoring='neg_mean_squared_error', verbose=1)"
      ]
     },
     "execution_count": 31,
     "metadata": {},
     "output_type": "execute_result"
    }
   ],
   "source": [
    "# fit random forest regressor\n",
    "comb_model_gs.fit(data, y_true)"
   ]
  },
  {
   "cell_type": "code",
   "execution_count": 32,
   "metadata": {},
   "outputs": [
    {
     "data": {
      "text/html": [
       "<div>\n",
       "<style scoped>\n",
       "    .dataframe tbody tr th:only-of-type {\n",
       "        vertical-align: middle;\n",
       "    }\n",
       "\n",
       "    .dataframe tbody tr th {\n",
       "        vertical-align: top;\n",
       "    }\n",
       "\n",
       "    .dataframe thead th {\n",
       "        text-align: right;\n",
       "    }\n",
       "</style>\n",
       "<table border=\"1\" class=\"dataframe\">\n",
       "  <thead>\n",
       "    <tr style=\"text-align: right;\">\n",
       "      <th></th>\n",
       "      <th>rank_test_score</th>\n",
       "      <th>mean_test_score</th>\n",
       "      <th>mean_train_score</th>\n",
       "      <th>mean_fit_time</th>\n",
       "      <th>split0_train_score</th>\n",
       "      <th>split1_train_score</th>\n",
       "      <th>split2_train_score</th>\n",
       "    </tr>\n",
       "  </thead>\n",
       "  <tbody>\n",
       "    <tr>\n",
       "      <th>93</th>\n",
       "      <td>1</td>\n",
       "      <td>-0.00002</td>\n",
       "      <td>-0.000008</td>\n",
       "      <td>0.194232</td>\n",
       "      <td>-0.000011</td>\n",
       "      <td>-0.000007</td>\n",
       "      <td>-0.000007</td>\n",
       "    </tr>\n",
       "    <tr>\n",
       "      <th>91</th>\n",
       "      <td>1</td>\n",
       "      <td>-0.00002</td>\n",
       "      <td>-0.000008</td>\n",
       "      <td>0.203017</td>\n",
       "      <td>-0.000011</td>\n",
       "      <td>-0.000007</td>\n",
       "      <td>-0.000007</td>\n",
       "    </tr>\n",
       "    <tr>\n",
       "      <th>39</th>\n",
       "      <td>3</td>\n",
       "      <td>-0.00002</td>\n",
       "      <td>-0.000010</td>\n",
       "      <td>0.182110</td>\n",
       "      <td>-0.000011</td>\n",
       "      <td>-0.000009</td>\n",
       "      <td>-0.000011</td>\n",
       "    </tr>\n",
       "    <tr>\n",
       "      <th>37</th>\n",
       "      <td>3</td>\n",
       "      <td>-0.00002</td>\n",
       "      <td>-0.000010</td>\n",
       "      <td>0.176719</td>\n",
       "      <td>-0.000011</td>\n",
       "      <td>-0.000009</td>\n",
       "      <td>-0.000011</td>\n",
       "    </tr>\n",
       "    <tr>\n",
       "      <th>43</th>\n",
       "      <td>5</td>\n",
       "      <td>-0.00002</td>\n",
       "      <td>-0.000015</td>\n",
       "      <td>0.177317</td>\n",
       "      <td>-0.000021</td>\n",
       "      <td>-0.000012</td>\n",
       "      <td>-0.000013</td>\n",
       "    </tr>\n",
       "    <tr>\n",
       "      <th>47</th>\n",
       "      <td>5</td>\n",
       "      <td>-0.00002</td>\n",
       "      <td>-0.000015</td>\n",
       "      <td>0.183128</td>\n",
       "      <td>-0.000021</td>\n",
       "      <td>-0.000012</td>\n",
       "      <td>-0.000013</td>\n",
       "    </tr>\n",
       "    <tr>\n",
       "      <th>45</th>\n",
       "      <td>5</td>\n",
       "      <td>-0.00002</td>\n",
       "      <td>-0.000015</td>\n",
       "      <td>0.175593</td>\n",
       "      <td>-0.000021</td>\n",
       "      <td>-0.000012</td>\n",
       "      <td>-0.000013</td>\n",
       "    </tr>\n",
       "    <tr>\n",
       "      <th>42</th>\n",
       "      <td>8</td>\n",
       "      <td>-0.00002</td>\n",
       "      <td>-0.000015</td>\n",
       "      <td>0.092832</td>\n",
       "      <td>-0.000020</td>\n",
       "      <td>-0.000012</td>\n",
       "      <td>-0.000013</td>\n",
       "    </tr>\n",
       "    <tr>\n",
       "      <th>44</th>\n",
       "      <td>8</td>\n",
       "      <td>-0.00002</td>\n",
       "      <td>-0.000015</td>\n",
       "      <td>0.087386</td>\n",
       "      <td>-0.000020</td>\n",
       "      <td>-0.000012</td>\n",
       "      <td>-0.000013</td>\n",
       "    </tr>\n",
       "    <tr>\n",
       "      <th>46</th>\n",
       "      <td>8</td>\n",
       "      <td>-0.00002</td>\n",
       "      <td>-0.000015</td>\n",
       "      <td>0.093360</td>\n",
       "      <td>-0.000020</td>\n",
       "      <td>-0.000012</td>\n",
       "      <td>-0.000013</td>\n",
       "    </tr>\n",
       "  </tbody>\n",
       "</table>\n",
       "</div>"
      ],
      "text/plain": [
       "    rank_test_score  mean_test_score  mean_train_score  mean_fit_time  \\\n",
       "93                1         -0.00002         -0.000008       0.194232   \n",
       "91                1         -0.00002         -0.000008       0.203017   \n",
       "39                3         -0.00002         -0.000010       0.182110   \n",
       "37                3         -0.00002         -0.000010       0.176719   \n",
       "43                5         -0.00002         -0.000015       0.177317   \n",
       "47                5         -0.00002         -0.000015       0.183128   \n",
       "45                5         -0.00002         -0.000015       0.175593   \n",
       "42                8         -0.00002         -0.000015       0.092832   \n",
       "44                8         -0.00002         -0.000015       0.087386   \n",
       "46                8         -0.00002         -0.000015       0.093360   \n",
       "\n",
       "    split0_train_score  split1_train_score  split2_train_score  \n",
       "93           -0.000011           -0.000007           -0.000007  \n",
       "91           -0.000011           -0.000007           -0.000007  \n",
       "39           -0.000011           -0.000009           -0.000011  \n",
       "37           -0.000011           -0.000009           -0.000011  \n",
       "43           -0.000021           -0.000012           -0.000013  \n",
       "47           -0.000021           -0.000012           -0.000013  \n",
       "45           -0.000021           -0.000012           -0.000013  \n",
       "42           -0.000020           -0.000012           -0.000013  \n",
       "44           -0.000020           -0.000012           -0.000013  \n",
       "46           -0.000020           -0.000012           -0.000013  "
      ]
     },
     "execution_count": 32,
     "metadata": {},
     "output_type": "execute_result"
    }
   ],
   "source": [
    "# print grid search results sorted by mean test score\n",
    "comb_model_results = pd.DataFrame(comb_model_gs.cv_results_)\n",
    "headers = ['rank_test_score','mean_test_score','mean_train_score','mean_fit_time','split0_train_score','split1_train_score','split2_train_score']\n",
    "comb_model_results.sort_values(by=[\"rank_test_score\"], inplace=True, ascending=True)\n",
    "comb_model_results[headers].head(10)"
   ]
  },
  {
   "cell_type": "code",
   "execution_count": 33,
   "metadata": {},
   "outputs": [
    {
     "data": {
      "text/plain": [
       "RandomForestRegressor(bootstrap=True, criterion='mse', max_depth=None,\n",
       "           max_features=6, max_leaf_nodes=None, min_impurity_decrease=0.0,\n",
       "           min_impurity_split=None, min_samples_leaf=3,\n",
       "           min_samples_split=2, min_weight_fraction_leaf=0.0,\n",
       "           n_estimators=100, n_jobs=1, oob_score=False, random_state=987,\n",
       "           verbose=0, warm_start=False)"
      ]
     },
     "execution_count": 33,
     "metadata": {},
     "output_type": "execute_result"
    }
   ],
   "source": [
    "# View the optimal random forest model parameters\n",
    "comb_model_gs.best_estimator_"
   ]
  },
  {
   "cell_type": "code",
   "execution_count": 34,
   "metadata": {},
   "outputs": [
    {
     "name": "stdout",
     "output_type": "stream",
     "text": [
      "Combined model MSE: -2.0119435819526655e-05\n"
     ]
    }
   ],
   "source": [
    "print(\"Combined model MSE: {}\".format(comb_model_gs.best_score_))"
   ]
  },
  {
   "cell_type": "code",
   "execution_count": 35,
   "metadata": {},
   "outputs": [
    {
     "data": {
      "text/plain": [
       "RandomForestRegressor(bootstrap=True, criterion='mse', max_depth=None,\n",
       "           max_features=6, max_leaf_nodes=None, min_impurity_decrease=0.0,\n",
       "           min_impurity_split=None, min_samples_leaf=3,\n",
       "           min_samples_split=2, min_weight_fraction_leaf=0.0,\n",
       "           n_estimators=100, n_jobs=1, oob_score=False, random_state=987,\n",
       "           verbose=0, warm_start=False)"
      ]
     },
     "execution_count": 35,
     "metadata": {},
     "output_type": "execute_result"
    }
   ],
   "source": [
    "# Run a new model using the best model from the grid search\n",
    "comb_best_model = comb_model_gs.best_params_\n",
    "rfreg_features = RandomForestRegressor(**comb_best_model)\n",
    "rfreg_features.fit(data, y_true)"
   ]
  },
  {
   "cell_type": "code",
   "execution_count": 36,
   "metadata": {},
   "outputs": [
    {
     "data": {
      "image/png": "[encoded data removed]",
      "text/plain": [
       "<Figure size 720x720 with 1 Axes>"
      ]
     },
     "metadata": {},
     "output_type": "display_data"
    }
   ],
   "source": [
    "# Plot the feature importances\n",
    "feature_importance = rfreg_features.feature_importances_\n",
    "feature_importance = 100.0 * (feature_importance / feature_importance.max())\n",
    "sorted_idx = np.argsort(feature_importance)\n",
    "pos = np.arange(sorted_idx.shape[0]) + .5\n",
    "plt.figure(figsize=(10, 10))\n",
    "plt.barh(pos, feature_importance[sorted_idx], align='center', color='navy')\n",
    "plt.yticks(pos, np.asanyarray(data.columns.tolist())[sorted_idx])  # data is X\n",
    "plt.xlabel('Relative Importance')\n",
    "plt.title('Combined Model Feature Importance')\n",
    "plt.show()\n",
    "#plt.savefig('Random Forest Feature Importance.png')"
   ]
  },
  {
   "cell_type": "code",
   "execution_count": 37,
   "metadata": {},
   "outputs": [],
   "source": [
    "# establish parameters for grid search object\n",
    "parameters = {\"n_estimators\": [50, 100],\n",
    "    \"max_features\": [2, 3, 4],\n",
    "    \"min_samples_leaf\": [3, 5, 10],     \n",
    "    \"max_depth\": [3, None],\n",
    "    \"min_samples_split\": [2, 5, 10],\n",
    "    \"bootstrap\": [True],\n",
    "    \"random_state\": [987]\n",
    "    }"
   ]
  },
  {
   "cell_type": "code",
   "execution_count": 38,
   "metadata": {},
   "outputs": [],
   "source": [
    "# create a grid search object\n",
    "econ_model_gs = GridSearchCV(estimator=rfreg\n",
    "                   , n_jobs=-1 # parallel execution -1 is all processors\n",
    "                   , verbose=1 # low verbosity\n",
    "                   , param_grid=parameters\n",
    "                   , cv=tscv # KFolds = 3\n",
    "                   , scoring=\"neg_mean_squared_error\"\n",
    "                    )"
   ]
  },
  {
   "cell_type": "code",
   "execution_count": 39,
   "metadata": {},
   "outputs": [
    {
     "name": "stdout",
     "output_type": "stream",
     "text": [
      "Fitting 3 folds for each of 108 candidates, totalling 324 fits\n"
     ]
    },
    {
     "name": "stderr",
     "output_type": "stream",
     "text": [
      "[Parallel(n_jobs=-1)]: Done  32 tasks      | elapsed:    0.8s\n",
      "[Parallel(n_jobs=-1)]: Done 324 out of 324 | elapsed:    4.2s finished\n"
     ]
    },
    {
     "data": {
      "text/plain": [
       "GridSearchCV(cv=TimeSeriesSplit(max_train_size=None, n_splits=3),\n",
       "       error_score='raise',\n",
       "       estimator=RandomForestRegressor(bootstrap=True, criterion='mse', max_depth=None,\n",
       "           max_features='auto', max_leaf_nodes=None,\n",
       "           min_impurity_decrease=0.0, min_impurity_split=None,\n",
       "           min_samples_leaf=1, min_samples_split=2,\n",
       "           min_weight_fraction_leaf=0.0, n_estimators=10, n_jobs=1,\n",
       "           oob_score=False, random_state=None, verbose=0, warm_start=False),\n",
       "       fit_params=None, iid=True, n_jobs=-1,\n",
       "       param_grid={'n_estimators': [50, 100], 'max_features': [2, 3, 4], 'min_samples_leaf': [3, 5, 10], 'max_depth': [3, None], 'min_samples_split': [2, 5, 10], 'bootstrap': [True], 'random_state': [987]},\n",
       "       pre_dispatch='2*n_jobs', refit=True, return_train_score='warn',\n",
       "       scoring='neg_mean_squared_error', verbose=1)"
      ]
     },
     "execution_count": 39,
     "metadata": {},
     "output_type": "execute_result"
    }
   ],
   "source": [
    "# fit random forest regressor\n",
    "econ_model_gs.fit(econ, y_true)"
   ]
  },
  {
   "cell_type": "code",
   "execution_count": 40,
   "metadata": {},
   "outputs": [
    {
     "data": {
      "text/html": [
       "<div>\n",
       "<style scoped>\n",
       "    .dataframe tbody tr th:only-of-type {\n",
       "        vertical-align: middle;\n",
       "    }\n",
       "\n",
       "    .dataframe tbody tr th {\n",
       "        vertical-align: top;\n",
       "    }\n",
       "\n",
       "    .dataframe thead th {\n",
       "        text-align: right;\n",
       "    }\n",
       "</style>\n",
       "<table border=\"1\" class=\"dataframe\">\n",
       "  <thead>\n",
       "    <tr style=\"text-align: right;\">\n",
       "      <th></th>\n",
       "      <th>rank_test_score</th>\n",
       "      <th>mean_test_score</th>\n",
       "      <th>mean_train_score</th>\n",
       "      <th>mean_fit_time</th>\n",
       "      <th>split0_train_score</th>\n",
       "      <th>split1_train_score</th>\n",
       "      <th>split2_train_score</th>\n",
       "    </tr>\n",
       "  </thead>\n",
       "  <tbody>\n",
       "    <tr>\n",
       "      <th>53</th>\n",
       "      <td>1</td>\n",
       "      <td>-0.000021</td>\n",
       "      <td>-0.000023</td>\n",
       "      <td>0.172886</td>\n",
       "      <td>-0.000033</td>\n",
       "      <td>-0.000018</td>\n",
       "      <td>-0.000017</td>\n",
       "    </tr>\n",
       "    <tr>\n",
       "      <th>105</th>\n",
       "      <td>1</td>\n",
       "      <td>-0.000021</td>\n",
       "      <td>-0.000023</td>\n",
       "      <td>0.134153</td>\n",
       "      <td>-0.000033</td>\n",
       "      <td>-0.000018</td>\n",
       "      <td>-0.000017</td>\n",
       "    </tr>\n",
       "    <tr>\n",
       "      <th>103</th>\n",
       "      <td>1</td>\n",
       "      <td>-0.000021</td>\n",
       "      <td>-0.000023</td>\n",
       "      <td>0.141396</td>\n",
       "      <td>-0.000033</td>\n",
       "      <td>-0.000018</td>\n",
       "      <td>-0.000017</td>\n",
       "    </tr>\n",
       "    <tr>\n",
       "      <th>51</th>\n",
       "      <td>1</td>\n",
       "      <td>-0.000021</td>\n",
       "      <td>-0.000023</td>\n",
       "      <td>0.174077</td>\n",
       "      <td>-0.000033</td>\n",
       "      <td>-0.000018</td>\n",
       "      <td>-0.000017</td>\n",
       "    </tr>\n",
       "    <tr>\n",
       "      <th>49</th>\n",
       "      <td>1</td>\n",
       "      <td>-0.000021</td>\n",
       "      <td>-0.000023</td>\n",
       "      <td>0.181301</td>\n",
       "      <td>-0.000033</td>\n",
       "      <td>-0.000018</td>\n",
       "      <td>-0.000017</td>\n",
       "    </tr>\n",
       "    <tr>\n",
       "      <th>107</th>\n",
       "      <td>1</td>\n",
       "      <td>-0.000021</td>\n",
       "      <td>-0.000023</td>\n",
       "      <td>0.104362</td>\n",
       "      <td>-0.000033</td>\n",
       "      <td>-0.000018</td>\n",
       "      <td>-0.000017</td>\n",
       "    </tr>\n",
       "    <tr>\n",
       "      <th>50</th>\n",
       "      <td>7</td>\n",
       "      <td>-0.000021</td>\n",
       "      <td>-0.000023</td>\n",
       "      <td>0.089039</td>\n",
       "      <td>-0.000033</td>\n",
       "      <td>-0.000019</td>\n",
       "      <td>-0.000017</td>\n",
       "    </tr>\n",
       "    <tr>\n",
       "      <th>52</th>\n",
       "      <td>7</td>\n",
       "      <td>-0.000021</td>\n",
       "      <td>-0.000023</td>\n",
       "      <td>0.093082</td>\n",
       "      <td>-0.000033</td>\n",
       "      <td>-0.000019</td>\n",
       "      <td>-0.000017</td>\n",
       "    </tr>\n",
       "    <tr>\n",
       "      <th>106</th>\n",
       "      <td>7</td>\n",
       "      <td>-0.000021</td>\n",
       "      <td>-0.000023</td>\n",
       "      <td>0.056159</td>\n",
       "      <td>-0.000033</td>\n",
       "      <td>-0.000019</td>\n",
       "      <td>-0.000017</td>\n",
       "    </tr>\n",
       "    <tr>\n",
       "      <th>48</th>\n",
       "      <td>7</td>\n",
       "      <td>-0.000021</td>\n",
       "      <td>-0.000023</td>\n",
       "      <td>0.092212</td>\n",
       "      <td>-0.000033</td>\n",
       "      <td>-0.000019</td>\n",
       "      <td>-0.000017</td>\n",
       "    </tr>\n",
       "  </tbody>\n",
       "</table>\n",
       "</div>"
      ],
      "text/plain": [
       "     rank_test_score  mean_test_score  mean_train_score  mean_fit_time  \\\n",
       "53                 1        -0.000021         -0.000023       0.172886   \n",
       "105                1        -0.000021         -0.000023       0.134153   \n",
       "103                1        -0.000021         -0.000023       0.141396   \n",
       "51                 1        -0.000021         -0.000023       0.174077   \n",
       "49                 1        -0.000021         -0.000023       0.181301   \n",
       "107                1        -0.000021         -0.000023       0.104362   \n",
       "50                 7        -0.000021         -0.000023       0.089039   \n",
       "52                 7        -0.000021         -0.000023       0.093082   \n",
       "106                7        -0.000021         -0.000023       0.056159   \n",
       "48                 7        -0.000021         -0.000023       0.092212   \n",
       "\n",
       "     split0_train_score  split1_train_score  split2_train_score  \n",
       "53            -0.000033           -0.000018           -0.000017  \n",
       "105           -0.000033           -0.000018           -0.000017  \n",
       "103           -0.000033           -0.000018           -0.000017  \n",
       "51            -0.000033           -0.000018           -0.000017  \n",
       "49            -0.000033           -0.000018           -0.000017  \n",
       "107           -0.000033           -0.000018           -0.000017  \n",
       "50            -0.000033           -0.000019           -0.000017  \n",
       "52            -0.000033           -0.000019           -0.000017  \n",
       "106           -0.000033           -0.000019           -0.000017  \n",
       "48            -0.000033           -0.000019           -0.000017  "
      ]
     },
     "execution_count": 40,
     "metadata": {},
     "output_type": "execute_result"
    }
   ],
   "source": [
    "# print results sorted by mean test score\n",
    "econ_model_results = pd.DataFrame(econ_model_gs.cv_results_)\n",
    "headers = ['rank_test_score','mean_test_score','mean_train_score','mean_fit_time','split0_train_score','split1_train_score','split2_train_score']\n",
    "econ_model_results.sort_values(by=[\"rank_test_score\"], inplace=True, ascending=True)\n",
    "econ_model_results[headers].head(10)"
   ]
  },
  {
   "cell_type": "code",
   "execution_count": 41,
   "metadata": {},
   "outputs": [
    {
     "data": {
      "text/plain": [
       "RandomForestRegressor(bootstrap=True, criterion='mse', max_depth=3,\n",
       "           max_features=4, max_leaf_nodes=None, min_impurity_decrease=0.0,\n",
       "           min_impurity_split=None, min_samples_leaf=10,\n",
       "           min_samples_split=2, min_weight_fraction_leaf=0.0,\n",
       "           n_estimators=100, n_jobs=1, oob_score=False, random_state=987,\n",
       "           verbose=0, warm_start=False)"
      ]
     },
     "execution_count": 41,
     "metadata": {},
     "output_type": "execute_result"
    }
   ],
   "source": [
    "econ_model_gs.best_estimator_"
   ]
  },
  {
   "cell_type": "code",
   "execution_count": 42,
   "metadata": {},
   "outputs": [
    {
     "name": "stdout",
     "output_type": "stream",
     "text": [
      "Economic model MSE: -2.0665388481727326e-05\n"
     ]
    }
   ],
   "source": [
    "print(\"Economic model MSE: {}\".format(econ_model_gs.best_score_))"
   ]
  },
  {
   "cell_type": "code",
   "execution_count": 43,
   "metadata": {},
   "outputs": [
    {
     "data": {
      "text/plain": [
       "RandomForestRegressor(bootstrap=True, criterion='mse', max_depth=3,\n",
       "           max_features=4, max_leaf_nodes=None, min_impurity_decrease=0.0,\n",
       "           min_impurity_split=None, min_samples_leaf=10,\n",
       "           min_samples_split=2, min_weight_fraction_leaf=0.0,\n",
       "           n_estimators=100, n_jobs=1, oob_score=False, random_state=987,\n",
       "           verbose=0, warm_start=False)"
      ]
     },
     "execution_count": 43,
     "metadata": {},
     "output_type": "execute_result"
    }
   ],
   "source": [
    "# Run a new model using the best model from the grid search\n",
    "econ_best_model = econ_model_gs.best_params_\n",
    "rfreg_features = RandomForestRegressor(**econ_best_model)\n",
    "rfreg_features.fit(econ, y_true)"
   ]
  },
  {
   "cell_type": "code",
   "execution_count": 44,
   "metadata": {},
   "outputs": [
    {
     "data": {
      "image/png": "[encoded data removed]",
      "text/plain": [
       "<Figure size 720x720 with 1 Axes>"
      ]
     },
     "metadata": {},
     "output_type": "display_data"
    }
   ],
   "source": [
    "# Plot the feature importances\n",
    "feature_importance = rfreg_features.feature_importances_\n",
    "feature_importance = 100.0 * (feature_importance / feature_importance.max())\n",
    "sorted_idx = np.argsort(feature_importance)\n",
    "pos = np.arange(sorted_idx.shape[0]) + .5\n",
    "plt.figure(figsize=(10, 10))\n",
    "plt.barh(pos, feature_importance[sorted_idx], align='center', color='maroon')\n",
    "plt.yticks(pos, np.asanyarray(econ.columns.tolist())[sorted_idx])  # econ is X\n",
    "plt.xlabel('Relative Importance')\n",
    "plt.title('Economic Model Feature Importance')\n",
    "plt.show()\n",
    "#plt.savefig('Random Forest Feature Importance.png')"
   ]
  }
 ],
 "metadata": {
  "kernelspec": {
   "display_name": "Python [conda env:gkopyenviro]",
   "language": "python",
   "name": "conda-env-gkopyenviro-py"
  },
  "language_info": {
   "codemirror_mode": {
    "name": "ipython",
    "version": 3
   },
   "file_extension": ".py",
   "mimetype": "text/x-python",
   "name": "python",
   "nbconvert_exporter": "python",
   "pygments_lexer": "ipython3",
   "version": "3.6.4"
  },
  "varInspector": {
   "cols": {
    "lenName": 16,
    "lenType": 16,
    "lenVar": 40
   },
   "kernels_config": {
    "python": {
     "delete_cmd_postfix": "",
     "delete_cmd_prefix": "del ",
     "library": "var_list.py",
     "varRefreshCmd": "print(var_dic_list())"
    },
    "r": {
     "delete_cmd_postfix": ") ",
     "delete_cmd_prefix": "rm(",
     "library": "var_list.r",
     "varRefreshCmd": "cat(var_dic_list()) "
    }
   },
   "position": {
    "height": "489px",
    "left": "883px",
    "right": "42px",
    "top": "70px",
    "width": "596px"
   },
   "types_to_exclude": [
    "module",
    "function",
    "builtin_function_or_method",
    "instance",
    "_Feature"
   ],
   "window_display": false
  }
 },
 "nbformat": 4,
 "nbformat_minor": 2
}
